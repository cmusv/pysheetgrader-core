{
 "cells": [
  {
   "cell_type": "markdown",
   "metadata": {},
   "source": [
    "## Excel Extraction Notebook\n",
    "\n",
    "This notebook is an attempt to extract values and formulas from Excel spreadsheet."
   ]
  },
  {
   "cell_type": "code",
   "execution_count": 4,
   "metadata": {
    "scrolled": true
   },
   "outputs": [
    {
     "name": "stdout",
     "output_type": "stream",
     "text": [
      "Excel's dimension: (3, 2)\n"
     ]
    },
    {
     "data": {
      "text/html": [
       "<div>\n",
       "<style scoped>\n",
       "    .dataframe tbody tr th:only-of-type {\n",
       "        vertical-align: middle;\n",
       "    }\n",
       "\n",
       "    .dataframe tbody tr th {\n",
       "        vertical-align: top;\n",
       "    }\n",
       "\n",
       "    .dataframe thead th {\n",
       "        text-align: right;\n",
       "    }\n",
       "</style>\n",
       "<table border=\"1\" class=\"dataframe\">\n",
       "  <thead>\n",
       "    <tr style=\"text-align: right;\">\n",
       "      <th></th>\n",
       "      <th>Text</th>\n",
       "      <th>Value</th>\n",
       "    </tr>\n",
       "  </thead>\n",
       "  <tbody>\n",
       "    <tr>\n",
       "      <th>0</th>\n",
       "      <td>iPhone</td>\n",
       "      <td>100</td>\n",
       "    </tr>\n",
       "    <tr>\n",
       "      <th>1</th>\n",
       "      <td>Pixel</td>\n",
       "      <td>90</td>\n",
       "    </tr>\n",
       "    <tr>\n",
       "      <th>2</th>\n",
       "      <td>Galaxy Note</td>\n",
       "      <td>90</td>\n",
       "    </tr>\n",
       "  </tbody>\n",
       "</table>\n",
       "</div>"
      ],
      "text/plain": [
       "          Text  Value\n",
       "0       iPhone    100\n",
       "1        Pixel     90\n",
       "2  Galaxy Note     90"
      ]
     },
     "execution_count": 4,
     "metadata": {},
     "output_type": "execute_result"
    }
   ],
   "source": [
    "import pandas as pd\n",
    "\n",
    "simple_values_df = pd.read_excel(\"../sample_excel_files/simple_values.xlsx\")\n",
    "\n",
    "# Printing the first info. Somehow, this will only extract the first sheet.\n",
    "print(f\"Excel's dimension: {simple_values_df.shape}\")\n",
    "simple_values_df.head()"
   ]
  },
  {
   "cell_type": "code",
   "execution_count": 5,
   "metadata": {},
   "outputs": [
    {
     "data": {
      "text/html": [
       "<div>\n",
       "<style scoped>\n",
       "    .dataframe tbody tr th:only-of-type {\n",
       "        vertical-align: middle;\n",
       "    }\n",
       "\n",
       "    .dataframe tbody tr th {\n",
       "        vertical-align: top;\n",
       "    }\n",
       "\n",
       "    .dataframe thead th {\n",
       "        text-align: right;\n",
       "    }\n",
       "</style>\n",
       "<table border=\"1\" class=\"dataframe\">\n",
       "  <thead>\n",
       "    <tr style=\"text-align: right;\">\n",
       "      <th></th>\n",
       "      <th>Unnamed: 0</th>\n",
       "      <th>Unnamed: 1</th>\n",
       "      <th>Unnamed: 2</th>\n",
       "      <th>Unnamed: 3</th>\n",
       "    </tr>\n",
       "  </thead>\n",
       "  <tbody>\n",
       "    <tr>\n",
       "      <th>0</th>\n",
       "      <td>NaN</td>\n",
       "      <td>NaN</td>\n",
       "      <td>NaN</td>\n",
       "      <td>NaN</td>\n",
       "    </tr>\n",
       "    <tr>\n",
       "      <th>1</th>\n",
       "      <td>NaN</td>\n",
       "      <td>NaN</td>\n",
       "      <td>NaN</td>\n",
       "      <td>NaN</td>\n",
       "    </tr>\n",
       "    <tr>\n",
       "      <th>2</th>\n",
       "      <td>NaN</td>\n",
       "      <td>NaN</td>\n",
       "      <td>Exercise</td>\n",
       "      <td>Reps</td>\n",
       "    </tr>\n",
       "    <tr>\n",
       "      <th>3</th>\n",
       "      <td>NaN</td>\n",
       "      <td>NaN</td>\n",
       "      <td>Pull-ups</td>\n",
       "      <td>8</td>\n",
       "    </tr>\n",
       "    <tr>\n",
       "      <th>4</th>\n",
       "      <td>NaN</td>\n",
       "      <td>NaN</td>\n",
       "      <td>Dips</td>\n",
       "      <td>15</td>\n",
       "    </tr>\n",
       "  </tbody>\n",
       "</table>\n",
       "</div>"
      ],
      "text/plain": [
       "   Unnamed: 0  Unnamed: 1 Unnamed: 2 Unnamed: 3\n",
       "0         NaN         NaN        NaN        NaN\n",
       "1         NaN         NaN        NaN        NaN\n",
       "2         NaN         NaN   Exercise       Reps\n",
       "3         NaN         NaN   Pull-ups          8\n",
       "4         NaN         NaN       Dips         15"
      ]
     },
     "execution_count": 5,
     "metadata": {},
     "output_type": "execute_result"
    }
   ],
   "source": [
    "# However, we can retrieve the second sheet if we explicitly notify the sheet.\n",
    "# Reference: https://datatofish.com/read_excel/\n",
    "\n",
    "simple_values_second_df = pd.read_excel(\"../sample_excel_files/simple_values.xlsx\", sheet_name=\"Sheet2\")\n",
    "\n",
    "# As you can see here, the column names become \"Unnamed\" because the start of the content is in the middle of the sheet.\n",
    "simple_values_second_df.head()"
   ]
  },
  {
   "cell_type": "code",
   "execution_count": 6,
   "metadata": {},
   "outputs": [
    {
     "name": "stdout",
     "output_type": "stream",
     "text": [
      "Sheet names:\n",
      "['Sheet1', 'Sheet2', 'Sheet3']\n"
     ]
    }
   ],
   "source": [
    "# We can try loading the Excel file as it is (instead of Dataframe) in Pandas!\n",
    "# Reference: https://www.datacamp.com/community/tutorials/python-excel-tutorial\n",
    "\n",
    "simple_values_xl = pd.ExcelFile(\"../sample_excel_files/simple_values.xlsx\")\n",
    "\n",
    "print(\"Sheet names:\")\n",
    "print(simple_values_xl.sheet_names)"
   ]
  },
  {
   "cell_type": "code",
   "execution_count": 7,
   "metadata": {},
   "outputs": [
    {
     "name": "stdout",
     "output_type": "stream",
     "text": [
      "Sheet 2:\n"
     ]
    },
    {
     "data": {
      "text/html": [
       "<div>\n",
       "<style scoped>\n",
       "    .dataframe tbody tr th:only-of-type {\n",
       "        vertical-align: middle;\n",
       "    }\n",
       "\n",
       "    .dataframe tbody tr th {\n",
       "        vertical-align: top;\n",
       "    }\n",
       "\n",
       "    .dataframe thead th {\n",
       "        text-align: right;\n",
       "    }\n",
       "</style>\n",
       "<table border=\"1\" class=\"dataframe\">\n",
       "  <thead>\n",
       "    <tr style=\"text-align: right;\">\n",
       "      <th></th>\n",
       "      <th>Unnamed: 0</th>\n",
       "      <th>Unnamed: 1</th>\n",
       "      <th>Unnamed: 2</th>\n",
       "      <th>Unnamed: 3</th>\n",
       "    </tr>\n",
       "  </thead>\n",
       "  <tbody>\n",
       "    <tr>\n",
       "      <th>0</th>\n",
       "      <td>NaN</td>\n",
       "      <td>NaN</td>\n",
       "      <td>NaN</td>\n",
       "      <td>NaN</td>\n",
       "    </tr>\n",
       "    <tr>\n",
       "      <th>1</th>\n",
       "      <td>NaN</td>\n",
       "      <td>NaN</td>\n",
       "      <td>NaN</td>\n",
       "      <td>NaN</td>\n",
       "    </tr>\n",
       "    <tr>\n",
       "      <th>2</th>\n",
       "      <td>NaN</td>\n",
       "      <td>NaN</td>\n",
       "      <td>Exercise</td>\n",
       "      <td>Reps</td>\n",
       "    </tr>\n",
       "    <tr>\n",
       "      <th>3</th>\n",
       "      <td>NaN</td>\n",
       "      <td>NaN</td>\n",
       "      <td>Pull-ups</td>\n",
       "      <td>8</td>\n",
       "    </tr>\n",
       "    <tr>\n",
       "      <th>4</th>\n",
       "      <td>NaN</td>\n",
       "      <td>NaN</td>\n",
       "      <td>Dips</td>\n",
       "      <td>15</td>\n",
       "    </tr>\n",
       "  </tbody>\n",
       "</table>\n",
       "</div>"
      ],
      "text/plain": [
       "   Unnamed: 0  Unnamed: 1 Unnamed: 2 Unnamed: 3\n",
       "0         NaN         NaN        NaN        NaN\n",
       "1         NaN         NaN        NaN        NaN\n",
       "2         NaN         NaN   Exercise       Reps\n",
       "3         NaN         NaN   Pull-ups          8\n",
       "4         NaN         NaN       Dips         15"
      ]
     },
     "execution_count": 7,
     "metadata": {},
     "output_type": "execute_result"
    }
   ],
   "source": [
    "# Now, let's try parsing each sheet.\n",
    "\n",
    "sheet_1_df = simple_values_xl.parse('Sheet1')\n",
    "sheet_2_df = simple_values_xl.parse('Sheet2')\n",
    "\n",
    "print(\"Sheet 2:\")\n",
    "sheet_2_df.head()\n",
    "\n",
    "# Yeah, the result is pretty similar to the read_excel method."
   ]
  },
  {
   "cell_type": "code",
   "execution_count": 11,
   "metadata": {},
   "outputs": [
    {
     "name": "stdout",
     "output_type": "stream",
     "text": [
      "Sheet 3:\n"
     ]
    },
    {
     "data": {
      "text/html": [
       "<div>\n",
       "<style scoped>\n",
       "    .dataframe tbody tr th:only-of-type {\n",
       "        vertical-align: middle;\n",
       "    }\n",
       "\n",
       "    .dataframe tbody tr th {\n",
       "        vertical-align: top;\n",
       "    }\n",
       "\n",
       "    .dataframe thead th {\n",
       "        text-align: right;\n",
       "    }\n",
       "</style>\n",
       "<table border=\"1\" class=\"dataframe\">\n",
       "  <thead>\n",
       "    <tr style=\"text-align: right;\">\n",
       "      <th></th>\n",
       "      <th>Name</th>\n",
       "      <th>Price</th>\n",
       "    </tr>\n",
       "  </thead>\n",
       "  <tbody>\n",
       "    <tr>\n",
       "      <th>0</th>\n",
       "      <td>Pizza</td>\n",
       "      <td>10</td>\n",
       "    </tr>\n",
       "    <tr>\n",
       "      <th>1</th>\n",
       "      <td>Samosa</td>\n",
       "      <td>2</td>\n",
       "    </tr>\n",
       "    <tr>\n",
       "      <th>2</th>\n",
       "      <td>Satay</td>\n",
       "      <td>2</td>\n",
       "    </tr>\n",
       "    <tr>\n",
       "      <th>3</th>\n",
       "      <td>Nasi Goreng</td>\n",
       "      <td>5</td>\n",
       "    </tr>\n",
       "    <tr>\n",
       "      <th>4</th>\n",
       "      <td>Total</td>\n",
       "      <td>19</td>\n",
       "    </tr>\n",
       "  </tbody>\n",
       "</table>\n",
       "</div>"
      ],
      "text/plain": [
       "          Name  Price\n",
       "0        Pizza     10\n",
       "1       Samosa      2\n",
       "2        Satay      2\n",
       "3  Nasi Goreng      5\n",
       "4        Total     19"
      ]
     },
     "execution_count": 11,
     "metadata": {},
     "output_type": "execute_result"
    }
   ],
   "source": [
    "# What about sheet with formulas?\n",
    "\n",
    "sheet_3_df = simple_values_xl.parse('Sheet3')\n",
    "\n",
    "print(\"Sheet 3:\")\n",
    "sheet_3_df.head()\n",
    "\n",
    "# Oh wow, it could read the result of the formula!"
   ]
  },
  {
   "cell_type": "code",
   "execution_count": 16,
   "metadata": {},
   "outputs": [
    {
     "name": "stdout",
     "output_type": "stream",
     "text": [
      "Object from row 0:\n",
      "Name     Pizza\n",
      "Price       10\n",
      "Name: 0, dtype: object\n",
      "Object Name: Pizza\n",
      "Object Price: 10\n"
     ]
    }
   ],
   "source": [
    "# Attempt to get the values from the DF:\n",
    "\n",
    "print(\"Object from row 0:\")\n",
    "print(sheet_3_df.iloc[0])\n",
    "\n",
    "print(f\"Object Name: {sheet_3_df.iloc[0]['Name']}\")\n",
    "print(f\"Object Price: {sheet_3_df.iloc[0]['Price']}\")"
   ]
  },
  {
   "cell_type": "code",
   "execution_count": 30,
   "metadata": {},
   "outputs": [
    {
     "name": "stdout",
     "output_type": "stream",
     "text": [
      "Workbook sheet names:\n",
      "['Sheet1', 'Sheet2', 'Sheet3']\n",
      "Sheet 3 Ranges:\n",
      "<Worksheet \"Sheet3\">\n",
      "Value of B6: =SUM(B2:B5)\n",
      "Internal value of B6: =SUM(B2:B5)\n",
      "Type of B6: <class 'openpyxl.cell.cell.Cell'>\n"
     ]
    }
   ],
   "source": [
    "# What about getting the formula from a cell (instead of the computed value?)\n",
    "# Reference: https://stackoverflow.com/a/42106262/1448626\n",
    "\n",
    "from openpyxl import load_workbook\n",
    "import pandas as pd\n",
    "\n",
    "simple_workbook = load_workbook(\"../sample_excel_files/simple_values.xlsx\")\n",
    "\n",
    "print(\"Workbook sheet names:\")\n",
    "print(simple_workbook.sheetnames)\n",
    "\n",
    "sheet_3_ranges = simple_workbook['Sheet3']\n",
    "print(\"Sheet 3 Ranges:\")\n",
    "print(sheet_3_ranges)\n",
    "\n",
    "# Since we know the place where it has formula ('B6'), we can take the value as formula.\n",
    "b6_cell = sheet_3_ranges['B6']\n",
    "print(f\"Value of B6: {b6_cell.value}\")\n",
    "print(f\"Internal value of B6: {b6_cell.internal_value}\")\n",
    "\n",
    "# What's the type of cell B6, anyway?\n",
    "print(f\"Type of B6: {type(b6_cell)}\")"
   ]
  },
  {
   "cell_type": "markdown",
   "metadata": {},
   "source": [
    "## Formula and computed value comparison\n",
    "\n",
    "Now that we're able to retrieve the formula and value of a cell, how do we compare one to the other?"
   ]
  },
  {
   "cell_type": "code",
   "execution_count": 1,
   "metadata": {},
   "outputs": [
    {
     "name": "stdout",
     "output_type": "stream",
     "text": [
      "Values of B6:\n",
      "Formula: =SUM(B2:B5)\n",
      "Computed value: 19\n"
     ]
    }
   ],
   "source": [
    "from openpyxl import load_workbook\n",
    "\n",
    "computed_value_wb = load_workbook(\"../sample_excel_files/simple_values.xlsx\", data_only=True)\n",
    "formula_wb = load_workbook(\"../sample_excel_files/simple_values.xlsx\", data_only=False) # False is the default option.\n",
    "\n",
    "sheet_3_computed_value = computed_value_wb['Sheet3']\n",
    "sheet_3_formula = formula_wb['Sheet3']\n",
    "\n",
    "print(\"Values of B6:\")\n",
    "print(f\"Formula: {sheet_3_formula['B6'].value}\")\n",
    "print(f\"Computed value: {sheet_3_computed_value['B6'].value}\")"
   ]
  }
 ],
 "metadata": {
  "kernelspec": {
   "display_name": "Python 3",
   "language": "python",
   "name": "python3"
  },
  "language_info": {
   "codemirror_mode": {
    "name": "ipython",
    "version": 3
   },
   "file_extension": ".py",
   "mimetype": "text/x-python",
   "name": "python",
   "nbconvert_exporter": "python",
   "pygments_lexer": "ipython3",
   "version": "3.7.3"
  }
 },
 "nbformat": 4,
 "nbformat_minor": 4
}
