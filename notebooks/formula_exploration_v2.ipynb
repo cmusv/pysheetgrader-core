{
 "cells": [
  {
   "cell_type": "markdown",
   "metadata": {},
   "source": [
    "# Formula Exploration Notebook V2\n",
    "\n",
    "This notebook holds the attempt to explore formulas in Sympy further, especially custom ones."
   ]
  },
  {
   "cell_type": "markdown",
   "metadata": {},
   "source": [
    "## Basic custom formula"
   ]
  },
  {
   "cell_type": "code",
   "execution_count": 2,
   "metadata": {},
   "outputs": [
    {
     "name": "stdout",
     "output_type": "stream",
     "text": [
      "Result of custom function: 5\n"
     ]
    }
   ],
   "source": [
    "from sympy.abc import x\n",
    "from sympy.utilities.lambdify import lambdify, implemented_function\n",
    "from sympy.parsing.sympy_parser import parse_expr\n",
    "\n",
    "custom_func = implemented_function('custom_func', lambda x: x+1)\n",
    "lambdified_custom_func = lambdify(x, custom_func(x))\n",
    "\n",
    "functions_dict = {\n",
    "    'custom_func': lambdified_custom_func\n",
    "}\n",
    "\n",
    "# Test parsing\n",
    "result = parse_expr('custom_func(4)', local_dict=functions_dict)\n",
    "print(f'Result of custom function: {result}')\n",
    "\n",
    "# Yes, this is working!"
   ]
  },
  {
   "cell_type": "code",
   "execution_count": 3,
   "metadata": {},
   "outputs": [
    {
     "name": "stdout",
     "output_type": "stream",
     "text": [
      "Result of nested function: 6\n"
     ]
    }
   ],
   "source": [
    "# What about nested functions?\n",
    "\n",
    "nested_result = parse_expr('custom_func(custom_func(4))', local_dict=functions_dict)\n",
    "print(f'Result of nested function: {nested_result}')\n",
    "\n",
    "# Yeah, this works!"
   ]
  },
  {
   "cell_type": "code",
   "execution_count": 7,
   "metadata": {},
   "outputs": [
    {
     "name": "stdout",
     "output_type": "stream",
     "text": [
      "Result of custom function with variable: a_1 + 1\n",
      "Result of custom function with filled variable: 11\n"
     ]
    }
   ],
   "source": [
    "# What about parsing a function with variable?\n",
    "\n",
    "\n",
    "variable_result = parse_expr('custom_func(a_1)', local_dict=functions_dict)\n",
    "print(f'Result of custom function with variable: {variable_result}')\n",
    "\n",
    "\n",
    "# Can we pass values to the variable?\n",
    "\n",
    "new_dict = {'a_1': 10}\n",
    "new_dict.update(functions_dict)\n",
    "\n",
    "\n",
    "replaced_variable_result = parse_expr('custom_func(a_1)', local_dict=new_dict)\n",
    "print(f'Result of custom function with filled variable: {replaced_variable_result}')\n",
    "\n",
    "# Awesome, this works!"
   ]
  }
 ],
 "metadata": {
  "kernelspec": {
   "display_name": "Python 3",
   "language": "python",
   "name": "python3"
  },
  "language_info": {
   "codemirror_mode": {
    "name": "ipython",
    "version": 3
   },
   "file_extension": ".py",
   "mimetype": "text/x-python",
   "name": "python",
   "nbconvert_exporter": "python",
   "pygments_lexer": "ipython3",
   "version": "3.6.8"
  }
 },
 "nbformat": 4,
 "nbformat_minor": 4
}
