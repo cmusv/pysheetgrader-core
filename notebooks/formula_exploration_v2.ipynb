{
 "cells": [
  {
   "cell_type": "markdown",
   "metadata": {},
   "source": [
    "# Formula Exploration Notebook V2\n",
    "\n",
    "This notebook holds the attempt to explore formulas in Sympy further, especially custom ones."
   ]
  },
  {
   "cell_type": "markdown",
   "metadata": {},
   "source": [
    "## Basic custom formula"
   ]
  },
  {
   "cell_type": "code",
   "execution_count": 2,
   "metadata": {},
   "outputs": [
    {
     "name": "stdout",
     "output_type": "stream",
     "text": [
      "Result of custom function: 5\n"
     ]
    }
   ],
   "source": [
    "from sympy.abc import x\n",
    "from sympy.utilities.lambdify import lambdify, implemented_function\n",
    "from sympy.parsing.sympy_parser import parse_expr\n",
    "\n",
    "custom_func = implemented_function('custom_func', lambda x: x+1)\n",
    "lambdified_custom_func = lambdify(x, custom_func(x))\n",
    "\n",
    "functions_dict = {\n",
    "    'custom_func': lambdified_custom_func\n",
    "}\n",
    "\n",
    "# Test parsing\n",
    "result = parse_expr('custom_func(4)', local_dict=functions_dict)\n",
    "print(f'Result of custom function: {result}')\n",
    "\n",
    "# Yes, this is working!"
   ]
  },
  {
   "cell_type": "code",
   "execution_count": 3,
   "metadata": {},
   "outputs": [
    {
     "name": "stdout",
     "output_type": "stream",
     "text": [
      "Result of nested function: 6\n"
     ]
    }
   ],
   "source": [
    "# What about nested functions?\n",
    "\n",
    "nested_result = parse_expr('custom_func(custom_func(4))', local_dict=functions_dict)\n",
    "print(f'Result of nested function: {nested_result}')\n",
    "\n",
    "# Yeah, this works!"
   ]
  },
  {
   "cell_type": "code",
   "execution_count": 7,
   "metadata": {},
   "outputs": [
    {
     "name": "stdout",
     "output_type": "stream",
     "text": [
      "Result of custom function with variable: a_1 + 1\n",
      "Result of custom function with filled variable: 11\n"
     ]
    }
   ],
   "source": [
    "# What about parsing a function with variable?\n",
    "\n",
    "\n",
    "variable_result = parse_expr('custom_func(a_1)', local_dict=functions_dict)\n",
    "print(f'Result of custom function with variable: {variable_result}')\n",
    "\n",
    "\n",
    "# Can we pass values to the variable?\n",
    "\n",
    "new_dict = {'a_1': 10}\n",
    "new_dict.update(functions_dict)\n",
    "\n",
    "\n",
    "replaced_variable_result = parse_expr('custom_func(a_1)', local_dict=new_dict)\n",
    "print(f'Result of custom function with filled variable: {replaced_variable_result}')\n",
    "\n",
    "# Awesome, this works!"
   ]
  },
  {
   "cell_type": "markdown",
   "metadata": {},
   "source": [
    "## Variadic formulas\n",
    "\n",
    "In Excel, there are variadic functions, for example: SUM(). How do we tackle this?"
   ]
  },
  {
   "cell_type": "code",
   "execution_count": 9,
   "metadata": {},
   "outputs": [
    {
     "ename": "TypeError",
     "evalue": "can only concatenate list (not \"int\") to list",
     "output_type": "error",
     "traceback": [
      "\u001b[0;31m---------------------------------------------------------------------------\u001b[0m",
      "\u001b[0;31mTypeError\u001b[0m                                 Traceback (most recent call last)",
      "\u001b[0;32m<ipython-input-9-d2ababe5513f>\u001b[0m in \u001b[0;36m<module>\u001b[0;34m\u001b[0m\n\u001b[1;32m      6\u001b[0m \u001b[0;34m\u001b[0m\u001b[0m\n\u001b[1;32m      7\u001b[0m \u001b[0;34m\u001b[0m\u001b[0m\n\u001b[0;32m----> 8\u001b[0;31m \u001b[0marray_variable_result\u001b[0m \u001b[0;34m=\u001b[0m \u001b[0mparse_expr\u001b[0m\u001b[0;34m(\u001b[0m\u001b[0;34m'custom_func(a_1)'\u001b[0m\u001b[0;34m,\u001b[0m \u001b[0mlocal_dict\u001b[0m\u001b[0;34m=\u001b[0m\u001b[0marray_dict\u001b[0m\u001b[0;34m)\u001b[0m\u001b[0;34m\u001b[0m\u001b[0;34m\u001b[0m\u001b[0m\n\u001b[0m\u001b[1;32m      9\u001b[0m \u001b[0mprint\u001b[0m\u001b[0;34m(\u001b[0m\u001b[0;34mf'Result of custom function with filled variable: {array_variable_result}'\u001b[0m\u001b[0;34m)\u001b[0m\u001b[0;34m\u001b[0m\u001b[0;34m\u001b[0m\u001b[0m\n\u001b[1;32m     10\u001b[0m \u001b[0;34m\u001b[0m\u001b[0m\n",
      "\u001b[0;32m~/Documents/Projects-CMUSV/Fall-2020/18980-GRA/pysheetgrader/venv/lib/python3.6/site-packages/sympy/parsing/sympy_parser.py\u001b[0m in \u001b[0;36mparse_expr\u001b[0;34m(s, local_dict, transformations, global_dict, evaluate)\u001b[0m\n\u001b[1;32m   1006\u001b[0m         \u001b[0mcode\u001b[0m \u001b[0;34m=\u001b[0m \u001b[0mcompile\u001b[0m\u001b[0;34m(\u001b[0m\u001b[0mevaluateFalse\u001b[0m\u001b[0;34m(\u001b[0m\u001b[0mcode\u001b[0m\u001b[0;34m)\u001b[0m\u001b[0;34m,\u001b[0m \u001b[0;34m'<string>'\u001b[0m\u001b[0;34m,\u001b[0m \u001b[0;34m'eval'\u001b[0m\u001b[0;34m)\u001b[0m\u001b[0;34m\u001b[0m\u001b[0;34m\u001b[0m\u001b[0m\n\u001b[1;32m   1007\u001b[0m \u001b[0;34m\u001b[0m\u001b[0m\n\u001b[0;32m-> 1008\u001b[0;31m     \u001b[0;32mreturn\u001b[0m \u001b[0meval_expr\u001b[0m\u001b[0;34m(\u001b[0m\u001b[0mcode\u001b[0m\u001b[0;34m,\u001b[0m \u001b[0mlocal_dict\u001b[0m\u001b[0;34m,\u001b[0m \u001b[0mglobal_dict\u001b[0m\u001b[0;34m)\u001b[0m\u001b[0;34m\u001b[0m\u001b[0;34m\u001b[0m\u001b[0m\n\u001b[0m\u001b[1;32m   1009\u001b[0m \u001b[0;34m\u001b[0m\u001b[0m\n\u001b[1;32m   1010\u001b[0m \u001b[0;34m\u001b[0m\u001b[0m\n",
      "\u001b[0;32m~/Documents/Projects-CMUSV/Fall-2020/18980-GRA/pysheetgrader/venv/lib/python3.6/site-packages/sympy/parsing/sympy_parser.py\u001b[0m in \u001b[0;36meval_expr\u001b[0;34m(code, local_dict, global_dict)\u001b[0m\n\u001b[1;32m    901\u001b[0m     \"\"\"\n\u001b[1;32m    902\u001b[0m     expr = eval(\n\u001b[0;32m--> 903\u001b[0;31m         code, global_dict, local_dict)  # take local objects in preference\n\u001b[0m\u001b[1;32m    904\u001b[0m \u001b[0;34m\u001b[0m\u001b[0m\n\u001b[1;32m    905\u001b[0m     \u001b[0;32mreturn\u001b[0m \u001b[0mexpr\u001b[0m\u001b[0;34m\u001b[0m\u001b[0;34m\u001b[0m\u001b[0m\n",
      "\u001b[0;32m<string>\u001b[0m in \u001b[0;36m<module>\u001b[0;34m\u001b[0m\n",
      "\u001b[0;32m<lambdifygenerated-2>\u001b[0m in \u001b[0;36m_lambdifygenerated\u001b[0;34m(x)\u001b[0m\n\u001b[1;32m      1\u001b[0m \u001b[0;32mdef\u001b[0m \u001b[0m_lambdifygenerated\u001b[0m\u001b[0;34m(\u001b[0m\u001b[0mx\u001b[0m\u001b[0;34m)\u001b[0m\u001b[0;34m:\u001b[0m\u001b[0;34m\u001b[0m\u001b[0;34m\u001b[0m\u001b[0m\n\u001b[0;32m----> 2\u001b[0;31m     \u001b[0;32mreturn\u001b[0m \u001b[0;34m(\u001b[0m\u001b[0mcustom_func\u001b[0m\u001b[0;34m(\u001b[0m\u001b[0mx\u001b[0m\u001b[0;34m)\u001b[0m\u001b[0;34m)\u001b[0m\u001b[0;34m\u001b[0m\u001b[0;34m\u001b[0m\u001b[0m\n\u001b[0m",
      "\u001b[0;32m<ipython-input-2-3598b78f8112>\u001b[0m in \u001b[0;36m<lambda>\u001b[0;34m(x)\u001b[0m\n\u001b[1;32m      3\u001b[0m \u001b[0;32mfrom\u001b[0m \u001b[0msympy\u001b[0m\u001b[0;34m.\u001b[0m\u001b[0mparsing\u001b[0m\u001b[0;34m.\u001b[0m\u001b[0msympy_parser\u001b[0m \u001b[0;32mimport\u001b[0m \u001b[0mparse_expr\u001b[0m\u001b[0;34m\u001b[0m\u001b[0;34m\u001b[0m\u001b[0m\n\u001b[1;32m      4\u001b[0m \u001b[0;34m\u001b[0m\u001b[0m\n\u001b[0;32m----> 5\u001b[0;31m \u001b[0mcustom_func\u001b[0m \u001b[0;34m=\u001b[0m \u001b[0mimplemented_function\u001b[0m\u001b[0;34m(\u001b[0m\u001b[0;34m'custom_func'\u001b[0m\u001b[0;34m,\u001b[0m \u001b[0;32mlambda\u001b[0m \u001b[0mx\u001b[0m\u001b[0;34m:\u001b[0m \u001b[0mx\u001b[0m\u001b[0;34m+\u001b[0m\u001b[0;36m1\u001b[0m\u001b[0;34m)\u001b[0m\u001b[0;34m\u001b[0m\u001b[0;34m\u001b[0m\u001b[0m\n\u001b[0m\u001b[1;32m      6\u001b[0m \u001b[0mlambdified_custom_func\u001b[0m \u001b[0;34m=\u001b[0m \u001b[0mlambdify\u001b[0m\u001b[0;34m(\u001b[0m\u001b[0mx\u001b[0m\u001b[0;34m,\u001b[0m \u001b[0mcustom_func\u001b[0m\u001b[0;34m(\u001b[0m\u001b[0mx\u001b[0m\u001b[0;34m)\u001b[0m\u001b[0;34m)\u001b[0m\u001b[0;34m\u001b[0m\u001b[0;34m\u001b[0m\u001b[0m\n\u001b[1;32m      7\u001b[0m \u001b[0;34m\u001b[0m\u001b[0m\n",
      "\u001b[0;31mTypeError\u001b[0m: can only concatenate list (not \"int\") to list"
     ]
    }
   ],
   "source": [
    "# What about the function above?\n",
    "\n",
    "\n",
    "array_dict = {'a_1': [10, 20, 30]}\n",
    "array_dict.update(functions_dict)\n",
    "\n",
    "\n",
    "array_variable_result = parse_expr('custom_func(a_1)', local_dict=array_dict)\n",
    "print(f'Result of custom function with filled variable: {array_variable_result}')\n",
    "\n",
    "# Hmm. Based on this cell's error result, it seems the 'x' passed on the lambda could be anything.\n",
    "# We can use type-checking and handle the operation accordingly."
   ]
  },
  {
   "cell_type": "code",
   "execution_count": 20,
   "metadata": {},
   "outputs": [
    {
     "name": "stdout",
     "output_type": "stream",
     "text": [
      "Result of custom function with array param: 6\n"
     ]
    }
   ],
   "source": [
    "# What about we make a function with array param?\n",
    "\n",
    "array_func = implemented_function('array_func', lambda x: sum(x))\n",
    "lambdified_array_func = lambdify(x, array_func(x))\n",
    "\n",
    "test_array_dict = {\n",
    "    'array_func': lambdified_array_func\n",
    "}\n",
    "\n",
    "array_func_result = parse_expr('array_func([1, 2, 3])', local_dict=test_array_dict)\n",
    "print(f'Result of custom function with array param: {array_func_result}')"
   ]
  },
  {
   "cell_type": "code",
   "execution_count": 24,
   "metadata": {},
   "outputs": [
    {
     "ename": "TypeError",
     "evalue": "'Symbol' object is not iterable",
     "output_type": "error",
     "traceback": [
      "\u001b[0;31m---------------------------------------------------------------------------\u001b[0m",
      "\u001b[0;31mTypeError\u001b[0m                                 Traceback (most recent call last)",
      "\u001b[0;32m<ipython-input-24-ad2feebf8ba6>\u001b[0m in \u001b[0;36m<module>\u001b[0;34m\u001b[0m\n\u001b[1;32m      1\u001b[0m \u001b[0;31m# What about using lambdify right away, without implemented_function?\u001b[0m\u001b[0;34m\u001b[0m\u001b[0;34m\u001b[0m\u001b[0;34m\u001b[0m\u001b[0m\n\u001b[1;32m      2\u001b[0m \u001b[0;34m\u001b[0m\u001b[0m\n\u001b[0;32m----> 3\u001b[0;31m \u001b[0mlambd_sum\u001b[0m \u001b[0;34m=\u001b[0m \u001b[0mlambdify\u001b[0m\u001b[0;34m(\u001b[0m\u001b[0mx\u001b[0m\u001b[0;34m,\u001b[0m \u001b[0msum\u001b[0m\u001b[0;34m(\u001b[0m\u001b[0mx\u001b[0m\u001b[0;34m)\u001b[0m\u001b[0;34m,\u001b[0m \u001b[0;34m\"numpy\"\u001b[0m\u001b[0;34m)\u001b[0m\u001b[0;34m\u001b[0m\u001b[0;34m\u001b[0m\u001b[0m\n\u001b[0m\u001b[1;32m      4\u001b[0m \u001b[0;34m\u001b[0m\u001b[0m\n\u001b[1;32m      5\u001b[0m test_sum_dict = {\n",
      "\u001b[0;31mTypeError\u001b[0m: 'Symbol' object is not iterable"
     ]
    }
   ],
   "source": [
    "# What about using lambdify right away, without implemented_function?\n",
    "\n",
    "lambd_sum = lambdify(x, sum(x))\n",
    "\n",
    "test_sum_dict = {\n",
    "    'sum': lambd_sum\n",
    "}\n",
    "\n",
    "sum_result = parse_expr('sum([1, 2, 3])', local_dict=test_sum_dict)\n",
    "print(f'Result of sum function parsing: {sum_result}')\n",
    "\n",
    "# Ha! Of course this is failing, because Symbol is not iterable.\n",
    "# So... unless we're using Sympy's predefined function, I think the\n",
    "# implemented_function() method is necessary."
   ]
  },
  {
   "cell_type": "markdown",
   "metadata": {},
   "source": [
    "# Comparing similar Excel formulas\n",
    "\n",
    "Now that we can parse custom functions in Sympy, how should we tackle different yet similar formulas? Previously we have algebraic formula simplification, but we want to try if unit testing is the way to go here.\n",
    "\n",
    "Unit testing here would be about assigning values to the variables in the string.\n"
   ]
  },
  {
   "cell_type": "code",
   "execution_count": 28,
   "metadata": {},
   "outputs": [
    {
     "name": "stdout",
     "output_type": "stream",
     "text": [
      "Result of custom function: 18\n"
     ]
    }
   ],
   "source": [
    "from sympy.abc import x\n",
    "from sympy.utilities.lambdify import lambdify, implemented_function\n",
    "from sympy.parsing.sympy_parser import parse_expr\n",
    "\n",
    "sum_func = implemented_function('sum', lambda arr: sum(arr))\n",
    "lambdified_sum_func = lambdify(x, sum_func(x))\n",
    "\n",
    "functions_dict = {\n",
    "    'sum': lambdified_sum_func,\n",
    "    'A1': 5,\n",
    "    'A2': 6,\n",
    "    'A3': 7\n",
    "}\n",
    "\n",
    "# Test parsing\n",
    "result = parse_expr('sum([A1, A2, A3])', local_dict=functions_dict)\n",
    "print(f'Result of custom function: {result}')\n",
    "\n",
    "# Yes, this is working!"
   ]
  },
  {
   "cell_type": "code",
   "execution_count": 1,
   "metadata": {},
   "outputs": [
    {
     "name": "stdout",
     "output_type": "stream",
     "text": [
      "Parsed formulas:\n",
      "[b_2 + b_3 + b_4 + b_5, sum(b_3, b_2, b_5, b_4)]\n"
     ]
    }
   ],
   "source": [
    "# Importing from the implemented modules\n",
    "from pysheetgrader.formula_parser import parse_formula\n",
    "\n",
    "similar_formulas = [\n",
    "    \"=B2+B3+B4+B5\",\n",
    "    \"=SUM(B2:B5)\"\n",
    "]\n",
    "\n",
    "parsed_formulas = [parse_formula(f) for f in similar_formulas]\n",
    "\n",
    "print(\"Parsed formulas:\")\n",
    "print(parsed_formulas)"
   ]
  },
  {
   "cell_type": "code",
   "execution_count": 2,
   "metadata": {},
   "outputs": [
    {
     "name": "stdout",
     "output_type": "stream",
     "text": [
      "Encoded cell values:\n",
      "{'b_2': 1, 'b_3': 2, 'b_4': 3, 'b_5': 4}\n"
     ]
    }
   ],
   "source": [
    "# Now we have similar cell references, all we need to do is implementing sum, no?\n",
    "\n",
    "from pysheetgrader.formula_parser import encode_cell_reference\n",
    "\n",
    "cell_values = {\n",
    "    \"B2\": 1,\n",
    "    \"B3\": 2,\n",
    "    \"B4\": 3,\n",
    "    \"B5\": 4\n",
    "}\n",
    "\n",
    "\n",
    "encoded_cell_values = {encode_cell_reference(cr): cell_values[cr] for cr in cell_values}\n",
    "print('Encoded cell values:')\n",
    "print(encoded_cell_values)\n"
   ]
  },
  {
   "cell_type": "code",
   "execution_count": 42,
   "metadata": {},
   "outputs": [
    {
     "name": "stdout",
     "output_type": "stream",
     "text": [
      "Localized parsed formulas:\n",
      "[10, 10]\n"
     ]
    }
   ],
   "source": [
    "# Implementing custom sum method properly\n",
    "\n",
    "import sympy\n",
    "from sympy.abc import x\n",
    "from sympy.utilities.lambdify import lambdify, implemented_function\n",
    "from sympy.parsing.sympy_parser import parse_expr\n",
    "\n",
    "# Since we can't pass variadic parameters in lambdify, we might as well replace the occurence of sum with Add!\n",
    "local_dict = {\n",
    "    'sum': sympy.Add\n",
    "}\n",
    "\n",
    "local_dict.update(encoded_cell_values)\n",
    "\n",
    "localized_parsed_formulas = [parse_formula(f, local_dict) for f in similar_formulas]\n",
    "\n",
    "print(\"Localized parsed formulas:\")\n",
    "print(localized_parsed_formulas)\n",
    "\n",
    "# If we want to force our way with lambdify, perhaps the parser needs to make all the parameters into an array. \n",
    "# That way, we could always access the variadic parameters by referencing the array element."
   ]
  },
  {
   "cell_type": "markdown",
   "metadata": {},
   "source": [
    "## Comparing unknown formulas with additions\n",
    "\n",
    "What about unknown formulas with additions?"
   ]
  },
  {
   "cell_type": "code",
   "execution_count": 4,
   "metadata": {},
   "outputs": [
    {
     "name": "stdout",
     "output_type": "stream",
     "text": [
      "Is the formula equal: True\n"
     ]
    }
   ],
   "source": [
    "from sympy import simplify\n",
    "from sympy.parsing.sympy_parser import parse_expr\n",
    "\n",
    "formula_1 = parse_expr(\"SUM(B2, B5) + 1\")\n",
    "formula_2 = parse_expr(\"SUM(B2, B5) + 2 - 1\")\n",
    "\n",
    "is_equal_formulas = simplify(formula_1 - formula_2) == 0\n",
    "\n",
    "print(f\"Is the formula equal: {is_equal_formulas}\")\n",
    "\n"
   ]
  }
 ],
 "metadata": {
  "kernelspec": {
   "display_name": "Python 3",
   "language": "python",
   "name": "python3"
  },
  "language_info": {
   "codemirror_mode": {
    "name": "ipython",
    "version": 3
   },
   "file_extension": ".py",
   "mimetype": "text/x-python",
   "name": "python",
   "nbconvert_exporter": "python",
   "pygments_lexer": "ipython3",
   "version": "3.6.8"
  }
 },
 "nbformat": 4,
 "nbformat_minor": 4
}
