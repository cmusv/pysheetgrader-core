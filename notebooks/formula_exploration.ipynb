{
 "cells": [
  {
   "cell_type": "markdown",
   "metadata": {},
   "source": [
    "# Formula Exploration Notebook\n",
    "\n",
    "This notebook holds the attempt to explore how we could operate formulas in spreadsheet cell values."
   ]
  },
  {
   "cell_type": "code",
   "execution_count": 7,
   "metadata": {},
   "outputs": [
    {
     "name": "stdout",
     "output_type": "stream",
     "text": [
      "Expanded cell list from range of \"B2:B5\": {'B4', 'B5', 'B3', 'B2'}\n"
     ]
    }
   ],
   "source": [
    "# Expanding cell ranges\n",
    "\n",
    "from openpyxl.worksheet.datavalidation import expand_cell_ranges\n",
    "\n",
    "sample_cell_range = \"B2:B5\"\n",
    "sample_expanded_cells = expand_cell_ranges(sample_cell_range)\n",
    "print(f\"Expanded cell list from range of \\\"{sample_cell_range}\\\": {sample_expanded_cells}\")"
   ]
  },
  {
   "cell_type": "code",
   "execution_count": 10,
   "metadata": {},
   "outputs": [
    {
     "name": "stdout",
     "output_type": "stream",
     "text": [
      "B4+B5+B3+B2\n"
     ]
    }
   ],
   "source": [
    "# Parse the formula\n",
    "\n",
    "sample_expanded_formula = \"+\".join(sample_expanded_cells)\n",
    "print(sample_expanded_formula)\n",
    "\n",
    "# We can use the sample_expanded_formula for comparison!"
   ]
  },
  {
   "cell_type": "code",
   "execution_count": 29,
   "metadata": {},
   "outputs": [],
   "source": [
    "# Now, what about parsing / tokenizing the formulas?\n",
    "\n",
    "from openpyxl.worksheet.datavalidation import expand_cell_ranges\n",
    "from openpyxl.formula import Tokenizer\n",
    "from openpyxl.formula.tokenizer import Token\n",
    "\n",
    "def simplify_sum_range(cell_range):\n",
    "    \"\"\"\n",
    "    This method will simplify the range in a SUM function so it could be parsed by Sympy.\n",
    "    \"\"\"\n",
    "    expanded_cells = expand_cell_ranges(cell_range)\n",
    "    return \"+\".join(expanded_cells)\n",
    "\n",
    "def simplify_sum_range_list(cell_range_list):\n",
    "    \"\"\"\n",
    "    This method will simplify the passed list of cell ranges in a SUM function so it could be parsed by Sympy.\n",
    "    \"\"\"\n",
    "    \n",
    "    print(f\"Input: {cell_range_list}\")\n",
    "    if len(cell_range_list) == 0:\n",
    "        return \"\"\n",
    "    \n",
    "    simplified_formula = simplify_sum_range(cell_range_list[0])\n",
    "    print(f\"Current simplified formula: {simplified_formula}\")\n",
    "    \n",
    "    for cell_range in cell_range_list[1:]:\n",
    "        current_formula = simplify_sum_range(cell_range)\n",
    "        simplified_formula += f\"+{current_formula}\"\n",
    "        \n",
    "    print(f\"Final simplified formula: {simplified_formula}\")\n",
    "    return simplified_formula\n",
    "\n",
    "def simplify_formula(formula):\n",
    "    \"\"\"\n",
    "    Returns simplified version of excel formula, if any.\n",
    "    \"\"\"\n",
    "    # TODO: This only handles SUM for now.\n",
    "    formula_tokenizer = Tokenizer(formula)\n",
    "    pending_function = []\n",
    "    item_buffer = []\n",
    "    \n",
    "    # print(f\"Tokenized form of formula {formula}:\")\n",
    "    for token in formula_tokenizer.items:\n",
    "        # print(token)\n",
    "        if token.type == Token.FUNC and token.subtype == Token.OPEN:\n",
    "            pending_function.append(token)\n",
    "            \n",
    "        elif token.type == Token.FUNC and token.subtype == Token.CLOSE:\n",
    "            current_function = pending_function.pop()\n",
    "            ranges = [item.value for item in item_buffer]\n",
    "            return simplify_function_and_data(current_function.value, ranges)\n",
    "        \n",
    "        elif token.type != Token.SEP:\n",
    "            item_buffer.append(token)\n",
    "    \n",
    "    # TODO: Map this out with proper case later.\n",
    "    return formula.replace(\"=\",\"\")\n",
    "\n",
    "def simplify_function_and_data(function, data):\n",
    "    \"\"\"\n",
    "    Simplifies the passed Excel function string with the passed data list.\n",
    "    \"\"\"\n",
    "    \n",
    "    print(f\"Requested function to be simplified: {function}\")\n",
    "    print(f\"Requested data to be simplified: {data}\")\n",
    "    \n",
    "    function = function.replace(\"(\", \"\")\n",
    "    # TODO: Add other functions here besides the SUM.\n",
    "    if function == \"SUM\":\n",
    "        return simplify_sum_range_list(data)\n",
    "    \n",
    "    # TODO: Revisit what to do if there's no matching function\n",
    "    return data\n",
    "    \n",
    "    "
   ]
  },
  {
   "cell_type": "code",
   "execution_count": 30,
   "metadata": {},
   "outputs": [
    {
     "name": "stdout",
     "output_type": "stream",
     "text": [
      "Requested function to be simplified: SUM(\n",
      "Requested data to be simplified: ['B2:B5']\n",
      "Input: ['B2:B5']\n",
      "Current simplified formula: B3+B2+B4+B5\n",
      "Final simplified formula: B3+B2+B4+B5\n",
      "Simplified version of formula_1: B3+B2+B4+B5\n",
      "Simplified version of formula_2: B2+B3+B4+B5\n",
      "Parsed formula_1's type: <class 'sympy.core.add.Add'>, content: B2 + B3 + B4 + B5\n",
      "Parsed formula_2's type: <class 'sympy.core.add.Add'>, content: B2 + B3 + B4 + B5\n",
      "Are the formulas equal: True\n"
     ]
    }
   ],
   "source": [
    "# Test the method above\n",
    "\n",
    "from sympy.parsing.sympy_parser import parse_expr\n",
    "from sympy import simplify\n",
    "\n",
    "formula_1 = \"=SUM(B2:B5)\"\n",
    "formula_2 = \"=B2+B3+B4+B5\"\n",
    "\n",
    "formula_1_simplified = simplify_formula(formula_1)\n",
    "formula_2_simplified = simplify_formula(formula_2)\n",
    "\n",
    "print(f\"Simplified version of formula_1: {formula_1_simplified}\")\n",
    "print(f\"Simplified version of formula_2: {formula_2_simplified}\")\n",
    "\n",
    "# Compare them using Sympy\n",
    "\n",
    "formula_1_parsed = parse_expr(formula_1_simplified)\n",
    "formula_2_parsed = parse_expr(formula_2_simplified)\n",
    "\n",
    "print(f\"Parsed formula_1's type: {type(formula_1_parsed)}, content: {formula_1_parsed}\")\n",
    "print(f\"Parsed formula_2's type: {type(formula_2_parsed)}, content: {formula_2_parsed}\")\n",
    "\n",
    "is_equal_formula = simplify(formula_1_parsed - formula_2_parsed) == 0\n",
    "\n",
    "print(f\"Are the formulas equal: {is_equal_formula}\")"
   ]
  }
 ],
 "metadata": {
  "kernelspec": {
   "display_name": "Python 3",
   "language": "python",
   "name": "python3"
  },
  "language_info": {
   "codemirror_mode": {
    "name": "ipython",
    "version": 3
   },
   "file_extension": ".py",
   "mimetype": "text/x-python",
   "name": "python",
   "nbconvert_exporter": "python",
   "pygments_lexer": "ipython3",
   "version": "3.7.3"
  }
 },
 "nbformat": 4,
 "nbformat_minor": 4
}
