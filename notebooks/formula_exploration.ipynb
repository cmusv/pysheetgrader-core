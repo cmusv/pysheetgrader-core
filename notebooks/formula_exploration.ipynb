{
 "cells": [
  {
   "cell_type": "markdown",
   "metadata": {},
   "source": [
    "# Formula Exploration Notebook\n",
    "\n",
    "This notebook holds the attempt to explore how we could operate formulas in spreadsheet cell values."
   ]
  },
  {
   "cell_type": "markdown",
   "metadata": {},
   "source": [
    "## Known formula parsing in Sympy "
   ]
  },
  {
   "cell_type": "code",
   "execution_count": 1,
   "metadata": {},
   "outputs": [
    {
     "name": "stdout",
     "output_type": "stream",
     "text": [
      "Expanded cell list from range of \"B2:B5\": {'B3', 'B5', 'B2', 'B4'}\n"
     ]
    }
   ],
   "source": [
    "# Expanding cell ranges\n",
    "\n",
    "from openpyxl.worksheet.datavalidation import expand_cell_ranges\n",
    "\n",
    "sample_cell_range = \"B2:B5\"\n",
    "sample_expanded_cells = expand_cell_ranges(sample_cell_range)\n",
    "print(f\"Expanded cell list from range of \\\"{sample_cell_range}\\\": {sample_expanded_cells}\")"
   ]
  },
  {
   "cell_type": "code",
   "execution_count": 2,
   "metadata": {},
   "outputs": [
    {
     "name": "stdout",
     "output_type": "stream",
     "text": [
      "B3+B5+B2+B4\n"
     ]
    }
   ],
   "source": [
    "# Parse the formula\n",
    "\n",
    "sample_expanded_formula = \"+\".join(sample_expanded_cells)\n",
    "print(sample_expanded_formula)\n",
    "\n",
    "# We can use the sample_expanded_formula for comparison!"
   ]
  },
  {
   "cell_type": "code",
   "execution_count": 3,
   "metadata": {},
   "outputs": [],
   "source": [
    "# Now, what about parsing / tokenizing the formulas?\n",
    "\n",
    "from openpyxl.worksheet.datavalidation import expand_cell_ranges\n",
    "from openpyxl.formula import Tokenizer\n",
    "from openpyxl.formula.tokenizer import Token\n",
    "\n",
    "def simplify_sum_range(cell_range):\n",
    "    \"\"\"\n",
    "    This method will simplify the range in a SUM function so it could be parsed by Sympy.\n",
    "    \"\"\"\n",
    "    expanded_cells = expand_cell_ranges(cell_range)\n",
    "    return \"+\".join(expanded_cells)\n",
    "\n",
    "def simplify_sum_range_list(cell_range_list):\n",
    "    \"\"\"\n",
    "    This method will simplify the passed list of cell ranges in a SUM function so it could be parsed by Sympy.\n",
    "    \"\"\"\n",
    "    \n",
    "    print(f\"Input: {cell_range_list}\")\n",
    "    if len(cell_range_list) == 0:\n",
    "        return \"\"\n",
    "    \n",
    "    simplified_formula = simplify_sum_range(cell_range_list[0])\n",
    "    print(f\"Current simplified formula: {simplified_formula}\")\n",
    "    \n",
    "    for cell_range in cell_range_list[1:]:\n",
    "        current_formula = simplify_sum_range(cell_range)\n",
    "        simplified_formula += f\"+{current_formula}\"\n",
    "        \n",
    "    print(f\"Final simplified formula: {simplified_formula}\")\n",
    "    return simplified_formula\n",
    "\n",
    "def simplify_formula(formula):\n",
    "    \"\"\"\n",
    "    Returns simplified version of excel formula, if any.\n",
    "    \"\"\"\n",
    "    # TODO: This only handles SUM for now.\n",
    "    formula_tokenizer = Tokenizer(formula)\n",
    "    pending_function = []\n",
    "    item_buffer = []\n",
    "    \n",
    "    print(f\"Tokenized form of formula {formula}:\")\n",
    "    for token in formula_tokenizer.items:\n",
    "        print(token)\n",
    "        if token.type == Token.FUNC and token.subtype == Token.OPEN:\n",
    "            pending_function.append(token)\n",
    "            \n",
    "        elif token.type == Token.FUNC and token.subtype == Token.CLOSE:\n",
    "            current_function = pending_function.pop()\n",
    "            ranges = [item.value for item in item_buffer]\n",
    "            return simplify_function_and_data(current_function.value, ranges)\n",
    "        \n",
    "        elif token.type != Token.SEP:\n",
    "            item_buffer.append(token)\n",
    "    \n",
    "    # TODO: Map this out with proper case later.\n",
    "    return formula.replace(\"=\",\"\")\n",
    "\n",
    "def simplify_function_and_data(function, data):\n",
    "    \"\"\"\n",
    "    Simplifies the passed Excel function string with the passed data list.\n",
    "    \"\"\"\n",
    "    \n",
    "    print(f\"Requested function to be simplified: {function}\")\n",
    "    print(f\"Requested data to be simplified: {data}\")\n",
    "    \n",
    "    function = function.replace(\"(\", \"\")\n",
    "    # TODO: Add other functions here besides the SUM.\n",
    "    if function == \"SUM\":\n",
    "        return simplify_sum_range_list(data)\n",
    "    \n",
    "    # TODO: Revisit what to do if there's no matching function\n",
    "    return data\n",
    "    \n",
    "    "
   ]
  },
  {
   "cell_type": "code",
   "execution_count": 4,
   "metadata": {
    "scrolled": true
   },
   "outputs": [
    {
     "name": "stdout",
     "output_type": "stream",
     "text": [
      "Tokenized form of formula =SUM(B2:B5):\n",
      "FUNC OPEN SUM(:\n",
      "OPERAND RANGE B2:B5:\n",
      "FUNC CLOSE ):\n",
      "Requested function to be simplified: SUM(\n",
      "Requested data to be simplified: ['B2:B5']\n",
      "Input: ['B2:B5']\n",
      "Current simplified formula: B3+B5+B2+B4\n",
      "Final simplified formula: B3+B5+B2+B4\n",
      "Tokenized form of formula =B2+B3+B4+B5:\n",
      "OPERAND RANGE B2:\n",
      "OPERATOR-INFIX  +:\n",
      "OPERAND RANGE B3:\n",
      "OPERATOR-INFIX  +:\n",
      "OPERAND RANGE B4:\n",
      "OPERATOR-INFIX  +:\n",
      "OPERAND RANGE B5:\n",
      "Simplified version of formula_1: B3+B5+B2+B4\n",
      "Simplified version of formula_2: B2+B3+B4+B5\n",
      "Parsed formula_1's type: <class 'sympy.core.add.Add'>, content: B2 + B3 + B4 + B5\n",
      "Parsed formula_2's type: <class 'sympy.core.add.Add'>, content: B2 + B3 + B4 + B5\n",
      "Are the formulas equal: True\n"
     ]
    }
   ],
   "source": [
    "# Test the method above\n",
    "\n",
    "from sympy.parsing.sympy_parser import parse_expr\n",
    "from sympy import simplify\n",
    "\n",
    "formula_1 = \"=SUM(B2:B5)\"\n",
    "formula_2 = \"=B2+B3+B4+B5\"\n",
    "\n",
    "formula_1_simplified = simplify_formula(formula_1)\n",
    "formula_2_simplified = simplify_formula(formula_2)\n",
    "\n",
    "print(f\"Simplified version of formula_1: {formula_1_simplified}\")\n",
    "print(f\"Simplified version of formula_2: {formula_2_simplified}\")\n",
    "\n",
    "# Compare them using Sympy\n",
    "\n",
    "formula_1_parsed = parse_expr(formula_1_simplified)\n",
    "formula_2_parsed = parse_expr(formula_2_simplified)\n",
    "\n",
    "print(f\"Parsed formula_1's type: {type(formula_1_parsed)}, content: {formula_1_parsed}\")\n",
    "print(f\"Parsed formula_2's type: {type(formula_2_parsed)}, content: {formula_2_parsed}\")\n",
    "\n",
    "is_equal_formula = simplify(formula_1_parsed - formula_2_parsed) == 0\n",
    "\n",
    "print(f\"Are the formulas equal: {is_equal_formula}\")"
   ]
  },
  {
   "cell_type": "markdown",
   "metadata": {},
   "source": [
    "## Unknown formula parsing in Sympy\n",
    "\n",
    "Let's see whether sympy are able to handle unknown functions!"
   ]
  },
  {
   "cell_type": "code",
   "execution_count": 7,
   "metadata": {},
   "outputs": [
    {
     "name": "stdout",
     "output_type": "stream",
     "text": [
      "Parsed formula: SUM(B2, B3, B4, B5)\n",
      "Is formula equal: True\n"
     ]
    }
   ],
   "source": [
    "# Parsing SUM with similar variable location\n",
    "\n",
    "from sympy.parsing.sympy_parser import parse_expr\n",
    "from sympy import simplify\n",
    "\n",
    "sum_formula_sample = \"SUM(B2, B3, B4, B5)\"\n",
    "sum_formula_sample_parsed = parse_expr(sum_formula_sample)\n",
    "\n",
    "print(f\"Parsed formula: {sum_formula_sample_parsed}\")\n",
    "\n",
    "# Can we simplify this?\n",
    "is_equal_formula = simplify(sum_formula_sample_parsed - sum_formula_sample_parsed) == 0\n",
    "print(f\"Is formula equal: {is_equal_formula}\")"
   ]
  },
  {
   "cell_type": "code",
   "execution_count": null,
   "metadata": {},
   "outputs": [],
   "source": [
    "# Since this works, what about parsing the SUM in form of range (e.g., B2:B5)?\n",
    "\n",
    "sum_range_sample = \"SUM(B2:B5)\"\n",
    "sum_range_sample_parsed = parse_expr(sum_range_sample)\n",
    "\n",
    "print(f\"Parsed formula: {sum_range_sample_parsed}\")\n",
    "\n",
    "# No we can't, it will identify the : as invalid syntax.\n"
   ]
  },
  {
   "cell_type": "code",
   "execution_count": 12,
   "metadata": {
    "scrolled": true
   },
   "outputs": [
    {
     "name": "stdout",
     "output_type": "stream",
     "text": [
      "Parsed first unknown formula: UNKNOWN(A1, B2, C3)\n",
      "Parsed second unknown formula: UNKNOWN(A1, C3, B2)\n",
      "Is formula equal: False\n"
     ]
    }
   ],
   "source": [
    "# What about parsing unknown formula with variables in different position?\n",
    "\n",
    "unknown_formula_1 = \"UNKNOWN(A1, B2, C3)\"\n",
    "unknown_formula_2 = \"UNKNOWN(A1, C3, B2)\"\n",
    "\n",
    "unknown_formula_1_parsed = parse_expr(unknown_formula_1)\n",
    "unknown_formula_2_parsed = parse_expr(unknown_formula_2)\n",
    "\n",
    "print(f\"Parsed first unknown formula: {unknown_formula_1_parsed}\")\n",
    "print(f\"Parsed second unknown formula: {unknown_formula_2_parsed}\")\n",
    "\n",
    "is_equal_formula = simplify(unknown_formula_1_parsed - unknown_formula_2_parsed) == 0\n",
    "print(f\"Is formula equal: {is_equal_formula}\")\n",
    "\n",
    "# Of course it's false."
   ]
  },
  {
   "cell_type": "code",
   "execution_count": 14,
   "metadata": {},
   "outputs": [
    {
     "name": "stdout",
     "output_type": "stream",
     "text": [
      "Parsed nested unknown formula: SUM(SUM(A1, B1), SUM(A2, B2))\n",
      "Is formula equal: True\n"
     ]
    }
   ],
   "source": [
    "# Hol' up. What about nested formulas?\n",
    "\n",
    "nested_unknown_formula = \"SUM(SUM(A1, B1), SUM(A2, B2))\"\n",
    "\n",
    "nested_unknown_formula_parsed = parse_expr(nested_unknown_formula)\n",
    "\n",
    "print(f\"Parsed nested unknown formula: {nested_unknown_formula_parsed}\")\n",
    "\n",
    "# Can we simplify it?\n",
    "\n",
    "is_equal_formula = simplify(nested_unknown_formula_parsed - nested_unknown_formula_parsed) == 0\n",
    "print(f\"Is formula equal: {is_equal_formula}\")"
   ]
  },
  {
   "cell_type": "markdown",
   "metadata": {},
   "source": [
    "## Range parsing and expanding\n",
    "\n",
    "What kind of ranges that can be parsed and expanded by openpyxl?"
   ]
  },
  {
   "cell_type": "code",
   "execution_count": 16,
   "metadata": {},
   "outputs": [
    {
     "name": "stdout",
     "output_type": "stream",
     "text": [
      "Sample ranges:\n",
      "['B2:B5', '$A$1']\n",
      "\n",
      "Expanded ranges:\n",
      "[{'B3', 'B5', 'B2', 'B4'}, {'A1'}]\n"
     ]
    }
   ],
   "source": [
    "# Different range types:\n",
    "\n",
    "from openpyxl.worksheet.datavalidation import expand_cell_ranges\n",
    "\n",
    "# Turns out Sheet won't work as an expanded range. Hmm.\n",
    "# sample_ranges = [\"B2:B5\", \"$A$1\", \"'Sheet 2'!B1\"]\n",
    "\n",
    "# However, expand_cell_ranges can take the dollars and change it to normal cell reference.\n",
    "sample_ranges = [\"B2:B5\", \"$A$1\"]\n",
    "expanded_ranges = [expand_cell_ranges(r) for r in sample_ranges]\n",
    "\n",
    "print(\"Sample ranges:\")\n",
    "print(sample_ranges)\n",
    "print(\"\\nExpanded ranges:\")\n",
    "print(expanded_ranges)"
   ]
  },
  {
   "cell_type": "markdown",
   "metadata": {},
   "source": [
    "## Conclusion\n",
    "\n",
    "So far... here's what we can do:\n",
    "\n",
    "1. Tokenize the input formula.\n",
    "2. For each range found, expand the range and join it using comma (,).\n",
    "3. Rebuild the formula so the input will be the formulas with commas.\n",
    "\n",
    "Issues to be tackled:\n",
    "1. How do we handle functions with different cell references? The unit test?"
   ]
  },
  {
   "cell_type": "code",
   "execution_count": 22,
   "metadata": {},
   "outputs": [],
   "source": [
    "# Functions in conclusion of the experiment above.\n",
    "\n",
    "from openpyxl.formula import Tokenizer\n",
    "from openpyxl.formula.tokenizer import Token\n",
    "from openpyxl.worksheet.datavalidation import expand_cell_ranges\n",
    "from sympy.parsing.sympy_parser import parse_expr\n",
    "\n",
    "def parse_formula(formula):\n",
    "    \"\"\"\n",
    "    Returns the Sympy-parsed form for of the passed formula.\n",
    "    So far, this method will remove the initial equals (=) sign and expand any cell ranges.\n",
    "    \"\"\"\n",
    "    expanded_form = \"\"     \n",
    "    formula_tokenizer = Tokenizer(formula)\n",
    "    \n",
    "    for token in formula_tokenizer.items:\n",
    "        if token.subtype == Token.RANGE: # TODO: This will still fail on sheet reference ranges.\n",
    "            expanded_range = expand_cell_ranges(token.value)\n",
    "            expanded_form += \",\".join(expanded_range)\n",
    "        else:\n",
    "            expanded_form += token.value\n",
    "    \n",
    "    print(f\"Input formula: {formula}\")\n",
    "    print(f\"Expanded formula: {expanded_form}\")\n",
    "    \n",
    "    return parse_expr(expanded_form)    "
   ]
  },
  {
   "cell_type": "code",
   "execution_count": 32,
   "metadata": {},
   "outputs": [
    {
     "name": "stdout",
     "output_type": "stream",
     "text": [
      "Input formula: 5\n",
      "Expanded formula: 5\n",
      "Input formula: =A1\n",
      "Expanded formula: A1\n",
      "Input formula: =SUM(A1,D1)\n",
      "Expanded formula: SUM(A1,D1)\n",
      "Input formula: =SUM(A1:E2)\n",
      "Expanded formula: SUM(C1,D2,B1,B2,D1,C2,E2,A1,A2,E1)\n"
     ]
    },
    {
     "name": "stderr",
     "output_type": "stream",
     "text": [
      "/Users/ricardopramanasuranta/Documents/Projects-CMUSV/Fall-2020/18980-GRA/pysheetgrader/venv/lib/python3.7/site-packages/sympy/core/sympify.py:389: SymPyDeprecationWarning: \n",
      "\n",
      "String fallback in sympify has been deprecated since SymPy 1.6. Use\n",
      "sympify(str(obj)) or sympy.core.sympify.converter or obj._sympy_\n",
      "instead. See https://github.com/sympy/sympy/issues/18066 for more\n",
      "info.\n",
      "\n",
      "  deprecated_since_version='1.6'\n"
     ]
    },
    {
     "ename": "SympifyError",
     "evalue": "Sympify of expression 'could not parse '<function E1 at 0x114d63c80>'' failed, because of exception being raised:\nSyntaxError: invalid syntax (<string>, line 1)",
     "output_type": "error",
     "traceback": [
      "\u001b[0;31m---------------------------------------------------------------------------\u001b[0m",
      "\u001b[0;31mSyntaxError\u001b[0m                               Traceback (most recent call last)",
      "\u001b[0;32m~/Documents/Projects-CMUSV/Fall-2020/18980-GRA/pysheetgrader/venv/lib/python3.7/site-packages/sympy/core/sympify.py\u001b[0m in \u001b[0;36msympify\u001b[0;34m(a, locals, convert_xor, strict, rational, evaluate)\u001b[0m\n\u001b[1;32m    405\u001b[0m         \u001b[0ma\u001b[0m \u001b[0;34m=\u001b[0m \u001b[0ma\u001b[0m\u001b[0;34m.\u001b[0m\u001b[0mreplace\u001b[0m\u001b[0;34m(\u001b[0m\u001b[0;34m'\\n'\u001b[0m\u001b[0;34m,\u001b[0m \u001b[0;34m''\u001b[0m\u001b[0;34m)\u001b[0m\u001b[0;34m\u001b[0m\u001b[0;34m\u001b[0m\u001b[0m\n\u001b[0;32m--> 406\u001b[0;31m         \u001b[0mexpr\u001b[0m \u001b[0;34m=\u001b[0m \u001b[0mparse_expr\u001b[0m\u001b[0;34m(\u001b[0m\u001b[0ma\u001b[0m\u001b[0;34m,\u001b[0m \u001b[0mlocal_dict\u001b[0m\u001b[0;34m=\u001b[0m\u001b[0mlocals\u001b[0m\u001b[0;34m,\u001b[0m \u001b[0mtransformations\u001b[0m\u001b[0;34m=\u001b[0m\u001b[0mtransformations\u001b[0m\u001b[0;34m,\u001b[0m \u001b[0mevaluate\u001b[0m\u001b[0;34m=\u001b[0m\u001b[0mevaluate\u001b[0m\u001b[0;34m)\u001b[0m\u001b[0;34m\u001b[0m\u001b[0;34m\u001b[0m\u001b[0m\n\u001b[0m\u001b[1;32m    407\u001b[0m     \u001b[0;32mexcept\u001b[0m \u001b[0;34m(\u001b[0m\u001b[0mTokenError\u001b[0m\u001b[0;34m,\u001b[0m \u001b[0mSyntaxError\u001b[0m\u001b[0;34m)\u001b[0m \u001b[0;32mas\u001b[0m \u001b[0mexc\u001b[0m\u001b[0;34m:\u001b[0m\u001b[0;34m\u001b[0m\u001b[0;34m\u001b[0m\u001b[0m\n",
      "\u001b[0;32m~/Documents/Projects-CMUSV/Fall-2020/18980-GRA/pysheetgrader/venv/lib/python3.7/site-packages/sympy/parsing/sympy_parser.py\u001b[0m in \u001b[0;36mparse_expr\u001b[0;34m(s, local_dict, transformations, global_dict, evaluate)\u001b[0m\n\u001b[1;32m   1007\u001b[0m \u001b[0;34m\u001b[0m\u001b[0m\n\u001b[0;32m-> 1008\u001b[0;31m     \u001b[0;32mreturn\u001b[0m \u001b[0meval_expr\u001b[0m\u001b[0;34m(\u001b[0m\u001b[0mcode\u001b[0m\u001b[0;34m,\u001b[0m \u001b[0mlocal_dict\u001b[0m\u001b[0;34m,\u001b[0m \u001b[0mglobal_dict\u001b[0m\u001b[0;34m)\u001b[0m\u001b[0;34m\u001b[0m\u001b[0;34m\u001b[0m\u001b[0m\n\u001b[0m\u001b[1;32m   1009\u001b[0m \u001b[0;34m\u001b[0m\u001b[0m\n",
      "\u001b[0;32m~/Documents/Projects-CMUSV/Fall-2020/18980-GRA/pysheetgrader/venv/lib/python3.7/site-packages/sympy/parsing/sympy_parser.py\u001b[0m in \u001b[0;36meval_expr\u001b[0;34m(code, local_dict, global_dict)\u001b[0m\n\u001b[1;32m    902\u001b[0m     expr = eval(\n\u001b[0;32m--> 903\u001b[0;31m         code, global_dict, local_dict)  # take local objects in preference\n\u001b[0m\u001b[1;32m    904\u001b[0m \u001b[0;34m\u001b[0m\u001b[0m\n",
      "\u001b[0;31mSyntaxError\u001b[0m: invalid syntax (<string>, line 1)",
      "\nDuring handling of the above exception, another exception occurred:\n",
      "\u001b[0;31mSympifyError\u001b[0m                              Traceback (most recent call last)",
      "\u001b[0;32m<ipython-input-32-c0fa621c7b8e>\u001b[0m in \u001b[0;36m<module>\u001b[0;34m\u001b[0m\n\u001b[1;32m      8\u001b[0m \u001b[0;31m# Yes, it still works when it was A1:D2... and failed on A1:E2.\u001b[0m\u001b[0;34m\u001b[0m\u001b[0;34m\u001b[0m\u001b[0;34m\u001b[0m\u001b[0m\n\u001b[1;32m      9\u001b[0m \u001b[0mtest_formulas\u001b[0m \u001b[0;34m=\u001b[0m \u001b[0;34m[\u001b[0m\u001b[0;34m\"5\"\u001b[0m\u001b[0;34m,\u001b[0m \u001b[0;34m\"=A1\"\u001b[0m\u001b[0;34m,\u001b[0m \u001b[0;34m\"=SUM(A1,D1)\"\u001b[0m\u001b[0;34m,\u001b[0m \u001b[0;34m\"=SUM(A1:E2)\"\u001b[0m\u001b[0;34m]\u001b[0m\u001b[0;34m\u001b[0m\u001b[0;34m\u001b[0m\u001b[0m\n\u001b[0;32m---> 10\u001b[0;31m \u001b[0mparsed_formulas\u001b[0m \u001b[0;34m=\u001b[0m \u001b[0;34m[\u001b[0m\u001b[0mparse_formula\u001b[0m\u001b[0;34m(\u001b[0m\u001b[0mf\u001b[0m\u001b[0;34m)\u001b[0m \u001b[0;32mfor\u001b[0m \u001b[0mf\u001b[0m \u001b[0;32min\u001b[0m \u001b[0mtest_formulas\u001b[0m\u001b[0;34m]\u001b[0m\u001b[0;34m\u001b[0m\u001b[0;34m\u001b[0m\u001b[0m\n\u001b[0m\u001b[1;32m     11\u001b[0m \u001b[0;34m\u001b[0m\u001b[0m\n\u001b[1;32m     12\u001b[0m \u001b[0;34m\u001b[0m\u001b[0m\n",
      "\u001b[0;32m<ipython-input-32-c0fa621c7b8e>\u001b[0m in \u001b[0;36m<listcomp>\u001b[0;34m(.0)\u001b[0m\n\u001b[1;32m      8\u001b[0m \u001b[0;31m# Yes, it still works when it was A1:D2... and failed on A1:E2.\u001b[0m\u001b[0;34m\u001b[0m\u001b[0;34m\u001b[0m\u001b[0;34m\u001b[0m\u001b[0m\n\u001b[1;32m      9\u001b[0m \u001b[0mtest_formulas\u001b[0m \u001b[0;34m=\u001b[0m \u001b[0;34m[\u001b[0m\u001b[0;34m\"5\"\u001b[0m\u001b[0;34m,\u001b[0m \u001b[0;34m\"=A1\"\u001b[0m\u001b[0;34m,\u001b[0m \u001b[0;34m\"=SUM(A1,D1)\"\u001b[0m\u001b[0;34m,\u001b[0m \u001b[0;34m\"=SUM(A1:E2)\"\u001b[0m\u001b[0;34m]\u001b[0m\u001b[0;34m\u001b[0m\u001b[0;34m\u001b[0m\u001b[0m\n\u001b[0;32m---> 10\u001b[0;31m \u001b[0mparsed_formulas\u001b[0m \u001b[0;34m=\u001b[0m \u001b[0;34m[\u001b[0m\u001b[0mparse_formula\u001b[0m\u001b[0;34m(\u001b[0m\u001b[0mf\u001b[0m\u001b[0;34m)\u001b[0m \u001b[0;32mfor\u001b[0m \u001b[0mf\u001b[0m \u001b[0;32min\u001b[0m \u001b[0mtest_formulas\u001b[0m\u001b[0;34m]\u001b[0m\u001b[0;34m\u001b[0m\u001b[0;34m\u001b[0m\u001b[0m\n\u001b[0m\u001b[1;32m     11\u001b[0m \u001b[0;34m\u001b[0m\u001b[0m\n\u001b[1;32m     12\u001b[0m \u001b[0;34m\u001b[0m\u001b[0m\n",
      "\u001b[0;32m<ipython-input-22-a000c5810fd7>\u001b[0m in \u001b[0;36mparse_formula\u001b[0;34m(formula)\u001b[0m\n\u001b[1;32m     24\u001b[0m     \u001b[0mprint\u001b[0m\u001b[0;34m(\u001b[0m\u001b[0;34mf\"Expanded formula: {expanded_form}\"\u001b[0m\u001b[0;34m)\u001b[0m\u001b[0;34m\u001b[0m\u001b[0;34m\u001b[0m\u001b[0m\n\u001b[1;32m     25\u001b[0m \u001b[0;34m\u001b[0m\u001b[0m\n\u001b[0;32m---> 26\u001b[0;31m     \u001b[0;32mreturn\u001b[0m \u001b[0mparse_expr\u001b[0m\u001b[0;34m(\u001b[0m\u001b[0mexpanded_form\u001b[0m\u001b[0;34m)\u001b[0m\u001b[0;34m\u001b[0m\u001b[0;34m\u001b[0m\u001b[0m\n\u001b[0m",
      "\u001b[0;32m~/Documents/Projects-CMUSV/Fall-2020/18980-GRA/pysheetgrader/venv/lib/python3.7/site-packages/sympy/parsing/sympy_parser.py\u001b[0m in \u001b[0;36mparse_expr\u001b[0;34m(s, local_dict, transformations, global_dict, evaluate)\u001b[0m\n\u001b[1;32m   1006\u001b[0m         \u001b[0mcode\u001b[0m \u001b[0;34m=\u001b[0m \u001b[0mcompile\u001b[0m\u001b[0;34m(\u001b[0m\u001b[0mevaluateFalse\u001b[0m\u001b[0;34m(\u001b[0m\u001b[0mcode\u001b[0m\u001b[0;34m)\u001b[0m\u001b[0;34m,\u001b[0m \u001b[0;34m'<string>'\u001b[0m\u001b[0;34m,\u001b[0m \u001b[0;34m'eval'\u001b[0m\u001b[0;34m)\u001b[0m\u001b[0;34m\u001b[0m\u001b[0;34m\u001b[0m\u001b[0m\n\u001b[1;32m   1007\u001b[0m \u001b[0;34m\u001b[0m\u001b[0m\n\u001b[0;32m-> 1008\u001b[0;31m     \u001b[0;32mreturn\u001b[0m \u001b[0meval_expr\u001b[0m\u001b[0;34m(\u001b[0m\u001b[0mcode\u001b[0m\u001b[0;34m,\u001b[0m \u001b[0mlocal_dict\u001b[0m\u001b[0;34m,\u001b[0m \u001b[0mglobal_dict\u001b[0m\u001b[0;34m)\u001b[0m\u001b[0;34m\u001b[0m\u001b[0;34m\u001b[0m\u001b[0m\n\u001b[0m\u001b[1;32m   1009\u001b[0m \u001b[0;34m\u001b[0m\u001b[0m\n\u001b[1;32m   1010\u001b[0m \u001b[0;34m\u001b[0m\u001b[0m\n",
      "\u001b[0;32m~/Documents/Projects-CMUSV/Fall-2020/18980-GRA/pysheetgrader/venv/lib/python3.7/site-packages/sympy/parsing/sympy_parser.py\u001b[0m in \u001b[0;36meval_expr\u001b[0;34m(code, local_dict, global_dict)\u001b[0m\n\u001b[1;32m    901\u001b[0m     \"\"\"\n\u001b[1;32m    902\u001b[0m     expr = eval(\n\u001b[0;32m--> 903\u001b[0;31m         code, global_dict, local_dict)  # take local objects in preference\n\u001b[0m\u001b[1;32m    904\u001b[0m \u001b[0;34m\u001b[0m\u001b[0m\n\u001b[1;32m    905\u001b[0m     \u001b[0;32mreturn\u001b[0m \u001b[0mexpr\u001b[0m\u001b[0;34m\u001b[0m\u001b[0;34m\u001b[0m\u001b[0m\n",
      "\u001b[0;32m<string>\u001b[0m in \u001b[0;36m<module>\u001b[0;34m\u001b[0m\n",
      "\u001b[0;32m~/Documents/Projects-CMUSV/Fall-2020/18980-GRA/pysheetgrader/venv/lib/python3.7/site-packages/sympy/core/function.py\u001b[0m in \u001b[0;36m__new__\u001b[0;34m(cls, *args, **options)\u001b[0m\n\u001b[1;32m    813\u001b[0m \u001b[0;34m\u001b[0m\u001b[0m\n\u001b[1;32m    814\u001b[0m     \u001b[0;32mdef\u001b[0m \u001b[0m__new__\u001b[0m\u001b[0;34m(\u001b[0m\u001b[0mcls\u001b[0m\u001b[0;34m,\u001b[0m \u001b[0;34m*\u001b[0m\u001b[0margs\u001b[0m\u001b[0;34m,\u001b[0m \u001b[0;34m**\u001b[0m\u001b[0moptions\u001b[0m\u001b[0;34m)\u001b[0m\u001b[0;34m:\u001b[0m\u001b[0;34m\u001b[0m\u001b[0;34m\u001b[0m\u001b[0m\n\u001b[0;32m--> 815\u001b[0;31m         \u001b[0margs\u001b[0m \u001b[0;34m=\u001b[0m \u001b[0mlist\u001b[0m\u001b[0;34m(\u001b[0m\u001b[0mmap\u001b[0m\u001b[0;34m(\u001b[0m\u001b[0msympify\u001b[0m\u001b[0;34m,\u001b[0m \u001b[0margs\u001b[0m\u001b[0;34m)\u001b[0m\u001b[0;34m)\u001b[0m\u001b[0;34m\u001b[0m\u001b[0;34m\u001b[0m\u001b[0m\n\u001b[0m\u001b[1;32m    816\u001b[0m         \u001b[0mu\u001b[0m \u001b[0;34m=\u001b[0m \u001b[0;34m[\u001b[0m\u001b[0ma\u001b[0m\u001b[0;34m.\u001b[0m\u001b[0mname\u001b[0m \u001b[0;32mfor\u001b[0m \u001b[0ma\u001b[0m \u001b[0;32min\u001b[0m \u001b[0margs\u001b[0m \u001b[0;32mif\u001b[0m \u001b[0misinstance\u001b[0m\u001b[0;34m(\u001b[0m\u001b[0ma\u001b[0m\u001b[0;34m,\u001b[0m \u001b[0mUndefinedFunction\u001b[0m\u001b[0;34m)\u001b[0m\u001b[0;34m]\u001b[0m\u001b[0;34m\u001b[0m\u001b[0;34m\u001b[0m\u001b[0m\n\u001b[1;32m    817\u001b[0m         \u001b[0;32mif\u001b[0m \u001b[0mu\u001b[0m\u001b[0;34m:\u001b[0m\u001b[0;34m\u001b[0m\u001b[0;34m\u001b[0m\u001b[0m\n",
      "\u001b[0;32m~/Documents/Projects-CMUSV/Fall-2020/18980-GRA/pysheetgrader/venv/lib/python3.7/site-packages/sympy/core/sympify.py\u001b[0m in \u001b[0;36msympify\u001b[0;34m(a, locals, convert_xor, strict, rational, evaluate)\u001b[0m\n\u001b[1;32m    406\u001b[0m         \u001b[0mexpr\u001b[0m \u001b[0;34m=\u001b[0m \u001b[0mparse_expr\u001b[0m\u001b[0;34m(\u001b[0m\u001b[0ma\u001b[0m\u001b[0;34m,\u001b[0m \u001b[0mlocal_dict\u001b[0m\u001b[0;34m=\u001b[0m\u001b[0mlocals\u001b[0m\u001b[0;34m,\u001b[0m \u001b[0mtransformations\u001b[0m\u001b[0;34m=\u001b[0m\u001b[0mtransformations\u001b[0m\u001b[0;34m,\u001b[0m \u001b[0mevaluate\u001b[0m\u001b[0;34m=\u001b[0m\u001b[0mevaluate\u001b[0m\u001b[0;34m)\u001b[0m\u001b[0;34m\u001b[0m\u001b[0;34m\u001b[0m\u001b[0m\n\u001b[1;32m    407\u001b[0m     \u001b[0;32mexcept\u001b[0m \u001b[0;34m(\u001b[0m\u001b[0mTokenError\u001b[0m\u001b[0;34m,\u001b[0m \u001b[0mSyntaxError\u001b[0m\u001b[0;34m)\u001b[0m \u001b[0;32mas\u001b[0m \u001b[0mexc\u001b[0m\u001b[0;34m:\u001b[0m\u001b[0;34m\u001b[0m\u001b[0;34m\u001b[0m\u001b[0m\n\u001b[0;32m--> 408\u001b[0;31m         \u001b[0;32mraise\u001b[0m \u001b[0mSympifyError\u001b[0m\u001b[0;34m(\u001b[0m\u001b[0;34m'could not parse %r'\u001b[0m \u001b[0;34m%\u001b[0m \u001b[0ma\u001b[0m\u001b[0;34m,\u001b[0m \u001b[0mexc\u001b[0m\u001b[0;34m)\u001b[0m\u001b[0;34m\u001b[0m\u001b[0;34m\u001b[0m\u001b[0m\n\u001b[0m\u001b[1;32m    409\u001b[0m \u001b[0;34m\u001b[0m\u001b[0m\n\u001b[1;32m    410\u001b[0m     \u001b[0;32mreturn\u001b[0m \u001b[0mexpr\u001b[0m\u001b[0;34m\u001b[0m\u001b[0;34m\u001b[0m\u001b[0m\n",
      "\u001b[0;31mSympifyError\u001b[0m: Sympify of expression 'could not parse '<function E1 at 0x114d63c80>'' failed, because of exception being raised:\nSyntaxError: invalid syntax (<string>, line 1)"
     ]
    }
   ],
   "source": [
    "# Test cases of the function above.\n",
    "\n",
    "# These values doesn't work:\n",
    "# test_formulas = [\"5\", \"=A1\", \"=SUM(A1,D1)\", \"=SUM($A$1, D1:F5)\", \"=SUM(SUM($A$1:$D$2), SUM(E1:G7))\"]\n",
    "# test_formulas = [\"5\", \"=A1\", \"=SUM(A1,D1)\", \"=SUM($A$1, D1:F5)\"]\n",
    "\n",
    "# Huh. Perhaps Sympy has limits on the number of parameter that can be passed to a function?\n",
    "# Yes, it still works when it was A1:D2... and failed on A1:E2.\n",
    "# OOOOH WAIT! IT FAILED BECAUSE OF E1, WHICH WAS THOUGHT AS AN EULER'S NUMBER!\n",
    "test_formulas = [\"5\", \"=A1\", \"=SUM(A1,D1)\", \"=SUM(A1:E2)\"]\n",
    "parsed_formulas = [parse_formula(f) for f in test_formulas]\n",
    "\n",
    "\n",
    "print(\"Test formulas:\")\n",
    "print(test_formulas)\n",
    "print(\"\\nParsed formulas:\")\n",
    "print(parsed_formulas)"
   ]
  }
 ],
 "metadata": {
  "kernelspec": {
   "display_name": "Python 3",
   "language": "python",
   "name": "python3"
  },
  "language_info": {
   "codemirror_mode": {
    "name": "ipython",
    "version": 3
   },
   "file_extension": ".py",
   "mimetype": "text/x-python",
   "name": "python",
   "nbconvert_exporter": "python",
   "pygments_lexer": "ipython3",
   "version": "3.7.3"
  }
 },
 "nbformat": 4,
 "nbformat_minor": 4
}
