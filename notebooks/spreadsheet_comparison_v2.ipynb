{
 "cells": [
  {
   "cell_type": "markdown",
   "metadata": {},
   "source": [
    "# Spreadsheet comparison and grading\n",
    "\n",
    "This notebook holds the exploratory code for comparing submissions against the key. It will also do grading."
   ]
  },
  {
   "cell_type": "markdown",
   "metadata": {},
   "source": [
    "## Key preparation"
   ]
  },
  {
   "cell_type": "code",
   "execution_count": 3,
   "metadata": {},
   "outputs": [
    {
     "name": "stdout",
     "output_type": "stream",
     "text": [
      "All sheetnames: ['Sheet3', 'Sheet3_CheckOrder']\n",
      "Grading sheetnames: ['Sheet3']\n"
     ]
    }
   ],
   "source": [
    "from openpyxl import load_workbook\n",
    "\n",
    "# Loading the key workbook.\n",
    "# The compared data will come from Sheet3, cell B6.\n",
    "\n",
    "key_data = load_workbook(\"../sample_excel_files/type_1_key.xlsx\", data_only=True)\n",
    "key_formulas = load_workbook(\"../sample_excel_files/type_1_key.xlsx\", data_only=False)\n",
    "\n",
    "print(f\"All sheetnames: {key_data.sheetnames}\")\n",
    "\n",
    "# This way, we assume all necessary sheets will have the _CheckOrder pair.\n",
    "grading_sheetnames = [name for name in key_data.sheetnames if name.find(\"_CheckOrder\") == -1]\n",
    "print(f\"Grading sheetnames: {grading_sheetnames}\")\n"
   ]
  },
  {
   "cell_type": "markdown",
   "metadata": {},
   "source": [
    "## Key formula and grade parsing"
   ]
  },
  {
   "cell_type": "code",
   "execution_count": 35,
   "metadata": {},
   "outputs": [],
   "source": [
    "# Parsing methods\n",
    "\n",
    "\n",
    "def get_grading_sheetnames(key_wb):\n",
    "    \"\"\"\n",
    "    Returns grading sheetnames from the passed key workbook.\n",
    "    \"\"\"\n",
    "    return [name for name in key_wb.sheetnames if name.find(\"_CheckOrder\") == -1]\n",
    "\n",
    "def get_sheet_grading_sequence(key_wb):\n",
    "    \"\"\"\n",
    "    Returns a dictionary of sheetnames as key. Each key will have an ordered list of tuples,\n",
    "    which contains the cell name in that sheet and the grading rubric. Both are in strings.\n",
    "    \"\"\"\n",
    "    grading_dict = {}\n",
    "    sheetnames = get_grading_sheetnames(key_wb)\n",
    "    \n",
    "    for name in sheetnames:\n",
    "        order_sheet = key_wb[name + \"_CheckOrder\"]\n",
    "        key_sheet = key_wb[name]\n",
    "        \n",
    "        # Assumptions of the order sheet \n",
    "        # 1. The scoring column is always on B. (min_col=2, max_col=2)\n",
    "        # 2. The scoring column always has a header (min_row=2)\n",
    "        # 3. The scoring column is always in order        \n",
    "        for column in order_sheet.iter_cols(min_col=2, max_col=2, min_row=2):\n",
    "            # Assuming this for-loop will only be executed for B column\n",
    "            # And the reference cells always have comment text for rubric.\n",
    "            grading_dict[name] = [(cell.value, key_sheet[cell.value].comment.text) for cell in column]\n",
    "\n",
    "    return grading_dict\n"
   ]
  },
  {
   "cell_type": "code",
   "execution_count": 36,
   "metadata": {},
   "outputs": [
    {
     "name": "stdout",
     "output_type": "stream",
     "text": [
      "Key grading sequence for each sheet:\n",
      "Sheet3:\n",
      "[('B6', 'Rubric:\\n\\t10P-C\\n'), ('B7', 'Rubric:\\n\\t5P-C\\n')]\n"
     ]
    }
   ],
   "source": [
    "# Test the methods above\n",
    "\n",
    "key_grading_sequence = get_sheet_grading_sequence(key_data)\n",
    "\n",
    "print(\"Key grading sequence for each sheet:\")\n",
    "\n",
    "for sheetname in key_grading_sequence:\n",
    "    print(sheetname + \":\")\n",
    "    print(key_grading_sequence[sheetname])"
   ]
  },
  {
   "cell_type": "markdown",
   "metadata": {},
   "source": [
    "## Rubric extraction"
   ]
  },
  {
   "cell_type": "code",
   "execution_count": 40,
   "metadata": {},
   "outputs": [],
   "source": [
    "# Method definition\n",
    "import re\n",
    "\n",
    "# TODO: for clarity, perhaps it's better to return a class with properties instead of tuple in the future.\n",
    "def parse_grading_rubric(rubric):\n",
    "    \"\"\"\n",
    "    Returns a tuple of (score, type) for the passed rubric String.\n",
    "    The score is a number, could be an Integer or Float.\n",
    "    The type is a letter, \"C\" for Constant evaluation and \"F\" for Formula evaluation.\n",
    "    \"\"\"\n",
    "    grade_search = re.search('\\t(.+?)P', rubric)\n",
    "    type_search = re.search('P-(.+?)', rubric)\n",
    "    \n",
    "    grade = grade_search.group(1) if grade_search else None\n",
    "    grading_type = type_search.group(1) if type_search else None\n",
    "    \n",
    "    return grade, grading_type\n",
    "    "
   ]
  },
  {
   "cell_type": "code",
   "execution_count": 41,
   "metadata": {},
   "outputs": [
    {
     "name": "stdout",
     "output_type": "stream",
     "text": [
      "Grading rubric for cell B6: ('10', 'C')\n",
      "Unit tests for cell B6: None\n",
      "Grading rubric for cell B7: ('5', 'C')\n",
      "Unit tests for cell B7: None\n"
     ]
    }
   ],
   "source": [
    "# Testing above methods\n",
    "\n",
    "for sheetname in key_grading_sequence:\n",
    "    for cell_name, criteria in key_grading_sequence[sheetname]:\n",
    "        criteria_by_line = criteria.split(sep=\"\\n\")\n",
    "        # Assumption: \n",
    "        # 1. Grading rubric is always on the second line.\n",
    "        # 2. Unit tests is always on the fourth line forward.\n",
    "        rubric = criteria_by_line[1] if len(criteria_by_line) >= 2 else None\n",
    "        unit_tests = criteria_by_line[3:] if len(criteria_by_line) >= 4 else None        \n",
    "        parsed_rubric = parse_grading_rubric(rubric) if rubric else None\n",
    "        \n",
    "        print(f\"Grading rubric for cell {cell_name}: {parsed_rubric}\")\n",
    "        print(f\"Unit tests for cell {cell_name}: {unit_tests}\")\n",
    "        "
   ]
  }
 ],
 "metadata": {
  "kernelspec": {
   "display_name": "Python 3",
   "language": "python",
   "name": "python3"
  },
  "language_info": {
   "codemirror_mode": {
    "name": "ipython",
    "version": 3
   },
   "file_extension": ".py",
   "mimetype": "text/x-python",
   "name": "python",
   "nbconvert_exporter": "python",
   "pygments_lexer": "ipython3",
   "version": "3.7.3"
  }
 },
 "nbformat": 4,
 "nbformat_minor": 4
}
