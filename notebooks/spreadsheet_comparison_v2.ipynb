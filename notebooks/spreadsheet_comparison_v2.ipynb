{
 "cells": [
  {
   "cell_type": "markdown",
   "metadata": {},
   "source": [
    "# Spreadsheet comparison and grading\n",
    "\n",
    "This notebook holds the exploratory code for comparing submissions against the key. It will also do grading."
   ]
  },
  {
   "cell_type": "markdown",
   "metadata": {},
   "source": [
    "## Key preparation"
   ]
  },
  {
   "cell_type": "code",
   "execution_count": 3,
   "metadata": {},
   "outputs": [
    {
     "name": "stdout",
     "output_type": "stream",
     "text": [
      "All sheetnames: ['Sheet3', 'Sheet3_CheckOrder']\n",
      "Grading sheetnames: ['Sheet3']\n"
     ]
    }
   ],
   "source": [
    "from openpyxl import load_workbook\n",
    "\n",
    "# Loading the key workbook.\n",
    "# The compared data will come from Sheet3, cell B6.\n",
    "\n",
    "key_data = load_workbook(\"../sample_excel_files/type_1_key.xlsx\", data_only=True)\n",
    "key_formulas = load_workbook(\"../sample_excel_files/type_1_key.xlsx\", data_only=False)\n",
    "\n",
    "print(f\"All sheetnames: {key_data.sheetnames}\")\n",
    "\n",
    "# This way, we assume all necessary sheets will have the _CheckOrder pair.\n",
    "grading_sheetnames = [name for name in key_data.sheetnames if name.find(\"_CheckOrder\") == -1]\n",
    "print(f\"Grading sheetnames: {grading_sheetnames}\")\n"
   ]
  },
  {
   "cell_type": "markdown",
   "metadata": {},
   "source": [
    "## Key formula and grade parsing"
   ]
  },
  {
   "cell_type": "code",
   "execution_count": 35,
   "metadata": {},
   "outputs": [],
   "source": [
    "# Parsing methods\n",
    "\n",
    "\n",
    "def get_grading_sheetnames(key_wb):\n",
    "    \"\"\"\n",
    "    Returns grading sheetnames from the passed key workbook.\n",
    "    \"\"\"\n",
    "    return [name for name in key_wb.sheetnames if name.find(\"_CheckOrder\") == -1]\n",
    "\n",
    "def get_sheet_grading_sequence(key_wb):\n",
    "    \"\"\"\n",
    "    Returns a dictionary of sheetnames as key. Each key will have an ordered list of tuples,\n",
    "    which contains the cell name in that sheet and the grading rubric. Both are in strings.\n",
    "    \"\"\"\n",
    "    grading_dict = {}\n",
    "    sheetnames = get_grading_sheetnames(key_wb)\n",
    "    \n",
    "    for name in sheetnames:\n",
    "        order_sheet = key_wb[name + \"_CheckOrder\"]\n",
    "        key_sheet = key_wb[name]\n",
    "        \n",
    "        # Assumptions of the order sheet \n",
    "        # 1. The scoring column is always on B. (min_col=2, max_col=2)\n",
    "        # 2. The scoring column always has a header (min_row=2)\n",
    "        # 3. The scoring column is always in order        \n",
    "        for column in order_sheet.iter_cols(min_col=2, max_col=2, min_row=2):\n",
    "            # Assuming this for-loop will only be executed for B column\n",
    "            # And the reference cells always have comment text for rubric.\n",
    "            grading_dict[name] = [(cell.value, key_sheet[cell.value].comment.text) for cell in column]\n",
    "\n",
    "    return grading_dict\n"
   ]
  },
  {
   "cell_type": "code",
   "execution_count": 36,
   "metadata": {},
   "outputs": [
    {
     "name": "stdout",
     "output_type": "stream",
     "text": [
      "Key grading sequence for each sheet:\n",
      "Sheet3:\n",
      "[('B6', 'Rubric:\\n\\t10P-C\\n'), ('B7', 'Rubric:\\n\\t5P-C\\n')]\n"
     ]
    }
   ],
   "source": [
    "# Test the methods above\n",
    "\n",
    "key_grading_sequence = get_sheet_grading_sequence(key_data)\n",
    "\n",
    "print(\"Key grading sequence for each sheet:\")\n",
    "\n",
    "for sheetname in key_grading_sequence:\n",
    "    print(sheetname + \":\")\n",
    "    print(key_grading_sequence[sheetname])"
   ]
  }
 ],
 "metadata": {
  "kernelspec": {
   "display_name": "Python 3",
   "language": "python",
   "name": "python3"
  },
  "language_info": {
   "codemirror_mode": {
    "name": "ipython",
    "version": 3
   },
   "file_extension": ".py",
   "mimetype": "text/x-python",
   "name": "python",
   "nbconvert_exporter": "python",
   "pygments_lexer": "ipython3",
   "version": "3.7.3"
  }
 },
 "nbformat": 4,
 "nbformat_minor": 4
}
