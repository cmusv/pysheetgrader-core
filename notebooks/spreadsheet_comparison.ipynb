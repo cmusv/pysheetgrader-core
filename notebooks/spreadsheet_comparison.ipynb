{
 "cells": [
  {
   "cell_type": "markdown",
   "metadata": {},
   "source": [
    "# Spreasheet Comparison Notebook\n",
    "\n",
    "This notebook contains the attempt for comparing key spreadsheet against the submissions."
   ]
  },
  {
   "cell_type": "markdown",
   "metadata": {},
   "source": [
    "## Key preparation"
   ]
  },
  {
   "cell_type": "code",
   "execution_count": 10,
   "metadata": {},
   "outputs": [],
   "source": [
    "from openpyxl import load_workbook\n",
    "\n",
    "# Loading the key workbook.\n",
    "# The compared data will come from Sheet3, cell B6.\n",
    "\n",
    "key_data = load_workbook(\"../sample_excel_files/type_1_key.xlsx\", data_only=True)\n",
    "key_formulas = load_workbook(\"../sample_excel_files/type_1_key.xlsx\", data_only=False)\n",
    "\n",
    "key_data_sheet = key_data['Sheet3']\n",
    "key_formula_sheet = key_formulas['Sheet3']"
   ]
  },
  {
   "cell_type": "markdown",
   "metadata": {},
   "source": [
    "## Key comparison method"
   ]
  },
  {
   "cell_type": "code",
   "execution_count": 16,
   "metadata": {},
   "outputs": [],
   "source": [
    "def grade_submission(data_wb, formula_wb):\n",
    "    \"\"\"\n",
    "    Grade the passed workbooks (`data_wb` and `formula_wb`) of a submission against the key.\n",
    "    It will return value between 0.0 to 1.0.\n",
    "    \"\"\"\n",
    "    \n",
    "    # TODO: this is a temporary assumption for this notebook.\n",
    "    grade = 0\n",
    "    grade += 0.5 if validate_submission_data(data_wb) else 0\n",
    "    grade += 0.5 if validate_submission_formula(formula_wb) else 0\n",
    "    \n",
    "    return grade\n",
    "\n",
    "def validate_submission_data(data_wb):\n",
    "    \"\"\"\n",
    "    Validate the passed `data_wb` workbook against the key. Will return True if valid, and False otherwise.\n",
    "    \"\"\"\n",
    "    sub_data_sheet = data_wb['Sheet3']\n",
    "    return key_data_sheet['B6'].value == sub_data_sheet['B6'].value\n",
    "\n",
    "def validate_submission_formula(formula_wb):\n",
    "    \"\"\"\n",
    "    Validate the passed `formula_wb` workbook against the key. Will return True if valid, and False otherwise.\n",
    "    \"\"\"    \n",
    "    sub_formula_sheet = formula_wb['Sheet3']\n",
    "\n",
    "    key_formula = key_formula_sheet['B6'].value\n",
    "    sub_formula = sub_formula_sheet['B6'].value\n",
    "    \n",
    "    print(f\"Key formula: {key_formula}\")\n",
    "    print(f\"Sub formula: {sub_formula}\")\n",
    "    \n",
    "    if key_formula == sub_formula: # Exact same formula\n",
    "        return True\n",
    "    \n",
    "    # TODO: Edge case for parsing different formula.\n",
    "    return False\n",
    "    \n",
    "    "
   ]
  },
  {
   "cell_type": "code",
   "execution_count": 26,
   "metadata": {},
   "outputs": [
    {
     "name": "stdout",
     "output_type": "stream",
     "text": [
      "Key formulas' data: ((<Cell 'Sheet3'.B2>,), (<Cell 'Sheet3'.B3>,), (<Cell 'Sheet3'.B4>,), (<Cell 'Sheet3'.B5>,))\n",
      "Value of cell B2: 10\n",
      "Value of cell B3: 2\n",
      "Value of cell B4: 2\n",
      "Value of cell B5: 5\n",
      "Unknown data cells: ((<Cell 'Sheet3'.Z2>,), (<Cell 'Sheet3'.Z3>,), (<Cell 'Sheet3'.Z4>,), (<Cell 'Sheet3'.Z5>,))\n",
      "Value of cell Z2: None\n",
      "Value of cell Z3: None\n",
      "Value of cell Z4: None\n",
      "Value of cell Z5: None\n"
     ]
    }
   ],
   "source": [
    "# This is an experimental notebook cell.\n",
    "# What about getting the values of certain range?\n",
    "\n",
    "key_formulas_data_cells = key_formula_sheet[\"B2:B5\"]\n",
    "\n",
    "# Wow, it's possible to get the cells!\n",
    "print(f\"Key formulas' data: {key_formulas_data_cells}\")\n",
    "\n",
    "for cell_tuple in key_formulas_data_cells:\n",
    "    cell = cell_tuple[0]\n",
    "    print(f\"Value of cell {cell.coordinate}: {cell.value}\")\n",
    "\n",
    "# What about referring to cells with no data in the sheet?\n",
    "\n",
    "unknown_data_cells = key_formula_sheet[\"Z2:Z5\"]\n",
    "\n",
    "# Wow, it still have cell instances!\n",
    "print(f\"Unknown data cells: {unknown_data_cells}\")\n",
    "\n",
    "for cell_tuple in unknown_data_cells:\n",
    "    cell = cell_tuple[0]\n",
    "    print(f\"Value of cell {cell.coordinate}: {cell.value}\") # The value will be none!"
   ]
  },
  {
   "cell_type": "markdown",
   "metadata": {},
   "source": [
    "## Evaluating correct submissions"
   ]
  },
  {
   "cell_type": "markdown",
   "metadata": {},
   "source": [
    "### Exact value and formula"
   ]
  },
  {
   "cell_type": "code",
   "execution_count": 14,
   "metadata": {},
   "outputs": [
    {
     "name": "stdout",
     "output_type": "stream",
     "text": [
      "Grade for exact value and formula: 1.0\n"
     ]
    }
   ],
   "source": [
    "sub_1_data_wb = load_workbook(\"../sample_excel_files/type_1_sub_right_exact.xlsx\", data_only=True)\n",
    "sub_1_formula_wb = load_workbook(\"../sample_excel_files/type_1_sub_right_exact.xlsx\", data_only=False)\n",
    "\n",
    "sub_1_grade = grade_submission(sub_1_data_wb, sub_1_formula_wb)\n",
    "print(f\"Grade for exact value and formula: {sub_1_grade}\")\n"
   ]
  },
  {
   "cell_type": "markdown",
   "metadata": {},
   "source": [
    "### Exact value and different formula (case 1)"
   ]
  },
  {
   "cell_type": "code",
   "execution_count": 17,
   "metadata": {},
   "outputs": [
    {
     "name": "stdout",
     "output_type": "stream",
     "text": [
      "Key formula: =SUM(B2:B5)\n",
      "Sub formula: =B2+B3+B4+B5\n",
      "Grade for exact value and different formula: 0.5\n"
     ]
    }
   ],
   "source": [
    "sub_2_data_wb = load_workbook(\"../sample_excel_files/type_1_sub_right_different_formula_1.xlsx\", data_only=True)\n",
    "sub_2_formula_wb = load_workbook(\"../sample_excel_files/type_1_sub_right_different_formula_1.xlsx\", data_only=False)\n",
    "\n",
    "# TODO: This result should be 1.0. Update the grading method.\n",
    "sub_2_grade = grade_submission(sub_2_data_wb, sub_2_formula_wb)\n",
    "print(f\"Grade for exact value and different formula: {sub_2_grade}\")"
   ]
  }
 ],
 "metadata": {
  "kernelspec": {
   "display_name": "Python 3",
   "language": "python",
   "name": "python3"
  },
  "language_info": {
   "codemirror_mode": {
    "name": "ipython",
    "version": 3
   },
   "file_extension": ".py",
   "mimetype": "text/x-python",
   "name": "python",
   "nbconvert_exporter": "python",
   "pygments_lexer": "ipython3",
   "version": "3.7.3"
  }
 },
 "nbformat": 4,
 "nbformat_minor": 4
}
