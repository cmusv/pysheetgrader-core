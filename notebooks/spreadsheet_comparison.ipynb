{
 "cells": [
  {
   "cell_type": "markdown",
   "metadata": {},
   "source": [
    "# Spreasheet Comparison Notebook\n",
    "\n",
    "This notebook contains the attempt for comparing key spreadsheet against the submissions."
   ]
  },
  {
   "cell_type": "markdown",
   "metadata": {},
   "source": [
    "## Key preparation"
   ]
  },
  {
   "cell_type": "code",
   "execution_count": 10,
   "metadata": {},
   "outputs": [],
   "source": [
    "from openpyxl import load_workbook\n",
    "\n",
    "# Loading the key workbook.\n",
    "# The compared data will come from Sheet3, cell B6.\n",
    "\n",
    "key_data = load_workbook(\"../sample_excel_files/type_1_key.xlsx\", data_only=True)\n",
    "key_formulas = load_workbook(\"../sample_excel_files/type_1_key.xlsx\", data_only=False)\n",
    "\n",
    "key_data_sheet = key_data['Sheet3']\n",
    "key_formula_sheet = key_formulas['Sheet3']"
   ]
  },
  {
   "cell_type": "markdown",
   "metadata": {},
   "source": [
    "## Key comparison method"
   ]
  },
  {
   "cell_type": "code",
   "execution_count": 12,
   "metadata": {},
   "outputs": [],
   "source": [
    "def grade_submission(data_wb, formula_wb):\n",
    "    \"\"\"\n",
    "    Grade the passed workbooks (`data_wb` and `formula_wb`) of a submission against the key.\n",
    "    It will return value between 0.0 to 1.0.\n",
    "    \"\"\"\n",
    "    \n",
    "    # TODO: this is a temporary assumption for this notebook.\n",
    "    grade = 0\n",
    "    grade += 0.5 if validate_submission_data(data_wb) else 0\n",
    "    grade += 0.5 if validate_submission_formula(formula_wb) else 0\n",
    "    \n",
    "    return grade\n",
    "\n",
    "def validate_submission_data(data_wb):\n",
    "    \"\"\"\n",
    "    Validate the passed `data_wb` workbook against the key. Will return True if valid, and False otherwise.\n",
    "    \"\"\"\n",
    "    sub_data_sheet = data_wb['Sheet3']\n",
    "    return key_data_sheet['B6'].value == sub_data_sheet['B6'].value\n",
    "\n",
    "def validate_submission_formula(formula_wb):\n",
    "    \"\"\"\n",
    "    Validate the passed `formula_wb` workbook against the key. Will return True if valid, and False otherwise.\n",
    "    \"\"\"\n",
    "    # TODO: Update this as we go along.\n",
    "    sub_formula_sheet = formula_wb['Sheet3']\n",
    "    return key_formula_sheet['B6'].value == sub_formula_sheet['B6'].value\n",
    "    \n",
    "    "
   ]
  },
  {
   "cell_type": "markdown",
   "metadata": {},
   "source": [
    "## Evaluating correct submissions"
   ]
  },
  {
   "cell_type": "markdown",
   "metadata": {},
   "source": [
    "### Exact value and formula"
   ]
  },
  {
   "cell_type": "code",
   "execution_count": 13,
   "metadata": {},
   "outputs": [
    {
     "name": "stdout",
     "output_type": "stream",
     "text": [
      "Grade for exact value and formula: 1.0\n"
     ]
    }
   ],
   "source": [
    "sub_1_data_wb = load_workbook(\"../sample_excel_files/type_1_sub_right_exact.xlsx\", data_only=True)\n",
    "sub_1_formula_wb = load_workbook(\"../sample_excel_files/type_1_sub_right_exact.xlsx\", data_only=False)\n",
    "\n",
    "\n",
    "print(f\"Grade for exact value and formula: {grade_submission(sub_1_data_wb, sub_1_formula_wb)}\")\n"
   ]
  }
 ],
 "metadata": {
  "kernelspec": {
   "display_name": "Python 3",
   "language": "python",
   "name": "python3"
  },
  "language_info": {
   "codemirror_mode": {
    "name": "ipython",
    "version": 3
   },
   "file_extension": ".py",
   "mimetype": "text/x-python",
   "name": "python",
   "nbconvert_exporter": "python",
   "pygments_lexer": "ipython3",
   "version": "3.7.3"
  }
 },
 "nbformat": 4,
 "nbformat_minor": 4
}
