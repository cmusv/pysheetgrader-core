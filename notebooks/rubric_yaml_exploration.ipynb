{
 "cells": [
  {
   "cell_type": "markdown",
   "metadata": {},
   "source": [
    "# Rubric YAML exploration\n",
    "\n",
    "This notebook holds the code for exploring YAML usage for rubric parsing."
   ]
  },
  {
   "cell_type": "code",
   "execution_count": 9,
   "metadata": {},
   "outputs": [],
   "source": [
    "# Sample rubric\n",
    "\n",
    "sample_rubric = \"\"\"\n",
    "rubric:\n",
    "    score: 10\n",
    "    type: constant\n",
    "unit_tests:\n",
    "    - \n",
    "        A1: 10\n",
    "        B1: 5\n",
    "    -\n",
    "        A1: 11\n",
    "        B1: 0\n",
    "\"\"\""
   ]
  },
  {
   "cell_type": "code",
   "execution_count": 10,
   "metadata": {},
   "outputs": [
    {
     "name": "stdout",
     "output_type": "stream",
     "text": [
      "{'rubric': {'score': 10, 'type': 'constant'}, 'unit_tests': [{'A1': 10, 'B1': 5}, {'A1': 11, 'B1': 0}]}\n",
      "Rubric score: 10\n",
      "Rubric type: constant\n",
      "Unit tests: [{'A1': 10, 'B1': 5}, {'A1': 11, 'B1': 0}]\n"
     ]
    }
   ],
   "source": [
    "# Loading the rubric\n",
    "\n",
    "from yaml import load, Loader\n",
    "\n",
    "parsed_rubric = load(sample_rubric, Loader=Loader)\n",
    "\n",
    "print(parsed_rubric)\n",
    "\n",
    "rubric_score = parsed_rubric['rubric']['score']\n",
    "rubric_type = parsed_rubric['rubric']['type']\n",
    "\n",
    "unit_tests = parsed_rubric['unit_tests']\n",
    "\n",
    "print(f'Rubric score: {rubric_score}')\n",
    "print(f'Rubric type: {rubric_type}')\n",
    "print(f'Unit tests: {unit_tests}')"
   ]
  }
 ],
 "metadata": {
  "kernelspec": {
   "display_name": "Python 3",
   "language": "python",
   "name": "python3"
  },
  "language_info": {
   "codemirror_mode": {
    "name": "ipython",
    "version": 3
   },
   "file_extension": ".py",
   "mimetype": "text/x-python",
   "name": "python",
   "nbconvert_exporter": "python",
   "pygments_lexer": "ipython3",
   "version": "3.6.8"
  }
 },
 "nbformat": 4,
 "nbformat_minor": 4
}
