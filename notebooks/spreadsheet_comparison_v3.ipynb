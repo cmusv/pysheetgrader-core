{
 "cells": [
  {
   "cell_type": "markdown",
   "metadata": {},
   "source": [
    "# Spreadsheet comparison and grading\n",
    "\n",
    "This notebook holds similar content to `spreadsheet_comparison_v2`, but with `pysheetgrader` modules."
   ]
  },
  {
   "cell_type": "code",
   "execution_count": 1,
   "metadata": {},
   "outputs": [],
   "source": [
    "# Adding pysheetgrader to path\n",
    "\n",
    "import sys\n",
    "sys.path.append('../pysheetgrader')"
   ]
  },
  {
   "cell_type": "code",
   "execution_count": 2,
   "metadata": {},
   "outputs": [
    {
     "name": "stdout",
     "output_type": "stream",
     "text": [
      "Is valid key document: True\n",
      "Grading sheet names: ['Sheet3']\n"
     ]
    }
   ],
   "source": [
    "# Loading key document\n",
    "from document import Document\n",
    "\n",
    "# Key document should not be read-only because we need to access the comments.\n",
    "key_doc_path = \"../sample_excel_files/type_1_key.xlsx\"\n",
    "key_doc = Document(key_doc_path, read_only=False)\n",
    "\n",
    "print(f\"Is valid key document: {key_doc.is_valid_key()}\")\n",
    "print(f\"Grading sheet names: {key_doc.grading_sheet_names()}\")"
   ]
  },
  {
   "cell_type": "code",
   "execution_count": null,
   "metadata": {},
   "outputs": [],
   "source": []
  },
  {
   "cell_type": "code",
   "execution_count": 3,
   "metadata": {},
   "outputs": [
    {
     "name": "stdout",
     "output_type": "stream",
     "text": [
      "Cell by rows:\n",
      "Cell in row: ['Sheet3']\n"
     ]
    }
   ],
   "source": [
    "# Iterating rows in read only document\n",
    "# Reference:\n",
    "# - https://openpyxl.readthedocs.io/en/2.4/api/openpyxl.worksheet.read_only.html\n",
    "# - https://openpyxl.readthedocs.io/en/stable/optimized.html?highlight=read%20only#read-only-mode\n",
    "\n",
    "\n",
    "order_sheet = key_doc.formula_wb[Document.GRADING_ORDER_SHEET_NAME]\n",
    "\n",
    "print(\"Cell by rows:\")\n",
    "for row in order_sheet.iter_rows(min_col=2, max_col=2, min_row=2):\n",
    "    print(f\"Cell in row: {[cell.value for cell in row]}\")\n",
    "\n",
    "# This cell can be skipped, since it's used for implementing the grading_sheet_names"
   ]
  },
  {
   "cell_type": "markdown",
   "metadata": {},
   "source": [
    "## Grading submissions\n",
    "\n",
    "The cells below holds the code for testing submission grading."
   ]
  },
  {
   "cell_type": "code",
   "execution_count": 4,
   "metadata": {},
   "outputs": [],
   "source": [
    "# Grader setup\n",
    "\n",
    "from grader import Grader\n",
    "\n",
    "grader = Grader(key_doc)"
   ]
  },
  {
   "cell_type": "code",
   "execution_count": 5,
   "metadata": {},
   "outputs": [
    {
     "name": "stdout",
     "output_type": "stream",
     "text": [
      "Grade for ../sample_excel_files/type_1_sub_right_different_formula_1.xlsx:\n",
      "20\n",
      "\n",
      "Grade for ../sample_excel_files/type_1_sub_right_different_formula_2.xlsx:\n",
      "20\n",
      "\n",
      "Grade for ../sample_excel_files/type_1_sub_right_exact.xlsx:\n",
      "20\n",
      "\n",
      "Grade for ../sample_excel_files/type_1_sub_wrong_constant_value.xlsx:\n",
      "20\n",
      "\n",
      "Grade for ../sample_excel_files/type_1_sub_wrong_different_formula_and_result.xlsx:\n",
      "20\n",
      "\n",
      "Grade for ../sample_excel_files/type_1_sub_wrong_different_result.xlsx:\n",
      "20\n",
      "\n"
     ]
    }
   ],
   "source": [
    "submission_filepaths = [\n",
    "    \"../sample_excel_files/type_1_sub_right_different_formula_1.xlsx\",\n",
    "    \"../sample_excel_files/type_1_sub_right_different_formula_2.xlsx\",\n",
    "    \"../sample_excel_files/type_1_sub_right_exact.xlsx\",\n",
    "    \"../sample_excel_files/type_1_sub_wrong_constant_value.xlsx\",\n",
    "    \"../sample_excel_files/type_1_sub_wrong_different_formula_and_result.xlsx\",\n",
    "    \"../sample_excel_files/type_1_sub_wrong_different_result.xlsx\"\n",
    "]\n",
    "\n",
    "for file in submission_filepaths:\n",
    "    sub_doc = Document(file)\n",
    "    score = grader.grade(sub_doc)\n",
    "    print(f\"Grade for {file}:\\n{score}\\n\")"
   ]
  }
 ],
 "metadata": {
  "kernelspec": {
   "display_name": "Python 3",
   "language": "python",
   "name": "python3"
  },
  "language_info": {
   "codemirror_mode": {
    "name": "ipython",
    "version": 3
   },
   "file_extension": ".py",
   "mimetype": "text/x-python",
   "name": "python",
   "nbconvert_exporter": "python",
   "pygments_lexer": "ipython3",
   "version": "3.6.8"
  }
 },
 "nbformat": 4,
 "nbformat_minor": 4
}
